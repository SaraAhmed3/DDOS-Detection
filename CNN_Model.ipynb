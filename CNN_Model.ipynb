{
  "nbformat": 4,
  "nbformat_minor": 0,
  "metadata": {
    "colab": {
      "name": "CNN_Model.ipynb",
      "provenance": [],
      "machine_shape": "hm",
      "collapsed_sections": [],
      "toc_visible": true
    },
    "kernelspec": {
      "name": "python3",
      "display_name": "Python 3"
    },
    "language_info": {
      "name": "python"
    },
    "accelerator": "GPU"
  },
  "cells": [
    {
      "cell_type": "markdown",
      "source": [
        "# **Setup**"
      ],
      "metadata": {
        "id": "-K3pWVlsnoRI"
      }
    },
    {
      "cell_type": "markdown",
      "source": [
        "## Import Required Packages"
      ],
      "metadata": {
        "id": "IW8yC99fnueR"
      }
    },
    {
      "cell_type": "code",
      "execution_count": null,
      "metadata": {
        "id": "3I_fhHmzuIJP"
      },
      "outputs": [],
      "source": [
        "import pandas as pd\n",
        "import numpy as np\n",
        "from sklearn.model_selection import train_test_split\n",
        "from sklearn.preprocessing import OneHotEncoder\n",
        "from sklearn.preprocessing import MinMaxScaler\n",
        "import tensorflow as tf\n",
        "import tensorflow.keras\n",
        "from keras.models import Sequential\n",
        "from tensorflow.keras.models import Model\n",
        "from tensorflow.keras.layers import Dense, Flatten, Conv2D, MaxPooling2D, Reshape, Input\n",
        "import matplotlib.pyplot as plt\n",
        "from sklearn.metrics import classification_report\n",
        "from sklearn.metrics import confusion_matrix, ConfusionMatrixDisplay"
      ]
    },
    {
      "cell_type": "markdown",
      "source": [
        "Note: Before running the code, make sure to change the data path to the current location of the data."
      ],
      "metadata": {
        "id": "tfTXyoGGtX1D"
      }
    },
    {
      "cell_type": "code",
      "source": [
        "from google.colab import drive\n",
        "drive.mount('/content/drive')"
      ],
      "metadata": {
        "colab": {
          "base_uri": "https://localhost:8080/"
        },
        "id": "Vy3te9hNuU4n",
        "outputId": "89e2585c-6df6-4c83-8d5d-7756a83a893b"
      },
      "execution_count": null,
      "outputs": [
        {
          "output_type": "stream",
          "name": "stdout",
          "text": [
            "Mounted at /content/drive\n"
          ]
        }
      ]
    },
    {
      "cell_type": "markdown",
      "source": [
        "## Load the Data"
      ],
      "metadata": {
        "id": "l_nh81Idn1-E"
      }
    },
    {
      "cell_type": "code",
      "source": [
        "data = pd.read_csv(\"/content/drive/MyDrive/AI for CS/data2.csv\")"
      ],
      "metadata": {
        "colab": {
          "base_uri": "https://localhost:8080/"
        },
        "id": "lz-51PWjuW1u",
        "outputId": "0062e133-ec3d-48f0-e4c5-3b96de2e3e5e"
      },
      "execution_count": null,
      "outputs": [
        {
          "output_type": "stream",
          "name": "stderr",
          "text": [
            "/usr/local/lib/python3.7/dist-packages/IPython/core/interactiveshell.py:2718: DtypeWarning: Columns (85) have mixed types.Specify dtype option on import or set low_memory=False.\n",
            "  interactivity=interactivity, compiler=compiler, result=result)\n"
          ]
        }
      ]
    },
    {
      "cell_type": "code",
      "source": [
        "data.columns = data.columns.str.strip()\n",
        "data.info()"
      ],
      "metadata": {
        "colab": {
          "base_uri": "https://localhost:8080/"
        },
        "id": "OVoBsLJKuYiP",
        "outputId": "d0382b05-c5a5-490c-c8e7-6b270efbf2f7"
      },
      "execution_count": null,
      "outputs": [
        {
          "output_type": "stream",
          "name": "stdout",
          "text": [
            "<class 'pandas.core.frame.DataFrame'>\n",
            "RangeIndex: 1000000 entries, 0 to 999999\n",
            "Data columns (total 88 columns):\n",
            " #   Column                       Non-Null Count    Dtype  \n",
            "---  ------                       --------------    -----  \n",
            " 0   Unnamed: 0                   1000000 non-null  int64  \n",
            " 1   Flow ID                      1000000 non-null  object \n",
            " 2   Source IP                    1000000 non-null  object \n",
            " 3   Source Port                  1000000 non-null  int64  \n",
            " 4   Destination IP               1000000 non-null  object \n",
            " 5   Destination Port             1000000 non-null  int64  \n",
            " 6   Protocol                     1000000 non-null  int64  \n",
            " 7   Timestamp                    1000000 non-null  object \n",
            " 8   Flow Duration                1000000 non-null  int64  \n",
            " 9   Total Fwd Packets            1000000 non-null  int64  \n",
            " 10  Total Backward Packets       1000000 non-null  int64  \n",
            " 11  Total Length of Fwd Packets  1000000 non-null  float64\n",
            " 12  Total Length of Bwd Packets  1000000 non-null  float64\n",
            " 13  Fwd Packet Length Max        1000000 non-null  float64\n",
            " 14  Fwd Packet Length Min        1000000 non-null  float64\n",
            " 15  Fwd Packet Length Mean       1000000 non-null  float64\n",
            " 16  Fwd Packet Length Std        1000000 non-null  float64\n",
            " 17  Bwd Packet Length Max        1000000 non-null  float64\n",
            " 18  Bwd Packet Length Min        1000000 non-null  float64\n",
            " 19  Bwd Packet Length Mean       1000000 non-null  float64\n",
            " 20  Bwd Packet Length Std        1000000 non-null  float64\n",
            " 21  Flow Bytes/s                 1000000 non-null  float64\n",
            " 22  Flow Packets/s               1000000 non-null  float64\n",
            " 23  Flow IAT Mean                1000000 non-null  float64\n",
            " 24  Flow IAT Std                 1000000 non-null  float64\n",
            " 25  Flow IAT Max                 1000000 non-null  float64\n",
            " 26  Flow IAT Min                 1000000 non-null  float64\n",
            " 27  Fwd IAT Total                1000000 non-null  float64\n",
            " 28  Fwd IAT Mean                 1000000 non-null  float64\n",
            " 29  Fwd IAT Std                  1000000 non-null  float64\n",
            " 30  Fwd IAT Max                  1000000 non-null  float64\n",
            " 31  Fwd IAT Min                  1000000 non-null  float64\n",
            " 32  Bwd IAT Total                1000000 non-null  float64\n",
            " 33  Bwd IAT Mean                 1000000 non-null  float64\n",
            " 34  Bwd IAT Std                  1000000 non-null  float64\n",
            " 35  Bwd IAT Max                  1000000 non-null  float64\n",
            " 36  Bwd IAT Min                  1000000 non-null  float64\n",
            " 37  Fwd PSH Flags                1000000 non-null  int64  \n",
            " 38  Bwd PSH Flags                1000000 non-null  int64  \n",
            " 39  Fwd URG Flags                1000000 non-null  int64  \n",
            " 40  Bwd URG Flags                1000000 non-null  int64  \n",
            " 41  Fwd Header Length            1000000 non-null  int64  \n",
            " 42  Bwd Header Length            1000000 non-null  int64  \n",
            " 43  Fwd Packets/s                1000000 non-null  float64\n",
            " 44  Bwd Packets/s                1000000 non-null  float64\n",
            " 45  Min Packet Length            1000000 non-null  float64\n",
            " 46  Max Packet Length            1000000 non-null  float64\n",
            " 47  Packet Length Mean           1000000 non-null  float64\n",
            " 48  Packet Length Std            1000000 non-null  float64\n",
            " 49  Packet Length Variance       1000000 non-null  float64\n",
            " 50  FIN Flag Count               1000000 non-null  int64  \n",
            " 51  SYN Flag Count               1000000 non-null  int64  \n",
            " 52  RST Flag Count               1000000 non-null  int64  \n",
            " 53  PSH Flag Count               1000000 non-null  int64  \n",
            " 54  ACK Flag Count               1000000 non-null  int64  \n",
            " 55  URG Flag Count               1000000 non-null  int64  \n",
            " 56  CWE Flag Count               1000000 non-null  int64  \n",
            " 57  ECE Flag Count               1000000 non-null  int64  \n",
            " 58  Down/Up Ratio                1000000 non-null  float64\n",
            " 59  Average Packet Size          1000000 non-null  float64\n",
            " 60  Avg Fwd Segment Size         1000000 non-null  float64\n",
            " 61  Avg Bwd Segment Size         1000000 non-null  float64\n",
            " 62  Fwd Header Length.1          1000000 non-null  int64  \n",
            " 63  Fwd Avg Bytes/Bulk           1000000 non-null  int64  \n",
            " 64  Fwd Avg Packets/Bulk         1000000 non-null  int64  \n",
            " 65  Fwd Avg Bulk Rate            1000000 non-null  int64  \n",
            " 66  Bwd Avg Bytes/Bulk           1000000 non-null  int64  \n",
            " 67  Bwd Avg Packets/Bulk         1000000 non-null  int64  \n",
            " 68  Bwd Avg Bulk Rate            1000000 non-null  int64  \n",
            " 69  Subflow Fwd Packets          1000000 non-null  int64  \n",
            " 70  Subflow Fwd Bytes            1000000 non-null  int64  \n",
            " 71  Subflow Bwd Packets          1000000 non-null  int64  \n",
            " 72  Subflow Bwd Bytes            1000000 non-null  int64  \n",
            " 73  Init_Win_bytes_forward       1000000 non-null  int64  \n",
            " 74  Init_Win_bytes_backward      1000000 non-null  int64  \n",
            " 75  act_data_pkt_fwd             1000000 non-null  int64  \n",
            " 76  min_seg_size_forward         1000000 non-null  int64  \n",
            " 77  Active Mean                  1000000 non-null  float64\n",
            " 78  Active Std                   1000000 non-null  float64\n",
            " 79  Active Max                   1000000 non-null  float64\n",
            " 80  Active Min                   1000000 non-null  float64\n",
            " 81  Idle Mean                    1000000 non-null  float64\n",
            " 82  Idle Std                     1000000 non-null  float64\n",
            " 83  Idle Max                     1000000 non-null  float64\n",
            " 84  Idle Min                     1000000 non-null  float64\n",
            " 85  SimillarHTTP                 1000000 non-null  object \n",
            " 86  Inbound                      1000000 non-null  int64  \n",
            " 87  Label                        1000000 non-null  object \n",
            "dtypes: float64(45), int64(37), object(6)\n",
            "memory usage: 671.4+ MB\n"
          ]
        }
      ]
    },
    {
      "cell_type": "code",
      "source": [
        "X = data.drop(columns=['Source IP', 'Destination IP', 'Timestamp', 'Label', 'Flow ID', 'Unnamed: 0', 'SimillarHTTP'], axis= 1)\n",
        "y = data['Label']\n",
        "X.info()"
      ],
      "metadata": {
        "colab": {
          "base_uri": "https://localhost:8080/"
        },
        "id": "LWaciRnjucVV",
        "outputId": "7fd06304-53cf-4735-833f-eb1a25cea9e9"
      },
      "execution_count": null,
      "outputs": [
        {
          "output_type": "stream",
          "name": "stdout",
          "text": [
            "<class 'pandas.core.frame.DataFrame'>\n",
            "RangeIndex: 1000000 entries, 0 to 999999\n",
            "Data columns (total 81 columns):\n",
            " #   Column                       Non-Null Count    Dtype  \n",
            "---  ------                       --------------    -----  \n",
            " 0   Source Port                  1000000 non-null  int64  \n",
            " 1   Destination Port             1000000 non-null  int64  \n",
            " 2   Protocol                     1000000 non-null  int64  \n",
            " 3   Flow Duration                1000000 non-null  int64  \n",
            " 4   Total Fwd Packets            1000000 non-null  int64  \n",
            " 5   Total Backward Packets       1000000 non-null  int64  \n",
            " 6   Total Length of Fwd Packets  1000000 non-null  float64\n",
            " 7   Total Length of Bwd Packets  1000000 non-null  float64\n",
            " 8   Fwd Packet Length Max        1000000 non-null  float64\n",
            " 9   Fwd Packet Length Min        1000000 non-null  float64\n",
            " 10  Fwd Packet Length Mean       1000000 non-null  float64\n",
            " 11  Fwd Packet Length Std        1000000 non-null  float64\n",
            " 12  Bwd Packet Length Max        1000000 non-null  float64\n",
            " 13  Bwd Packet Length Min        1000000 non-null  float64\n",
            " 14  Bwd Packet Length Mean       1000000 non-null  float64\n",
            " 15  Bwd Packet Length Std        1000000 non-null  float64\n",
            " 16  Flow Bytes/s                 1000000 non-null  float64\n",
            " 17  Flow Packets/s               1000000 non-null  float64\n",
            " 18  Flow IAT Mean                1000000 non-null  float64\n",
            " 19  Flow IAT Std                 1000000 non-null  float64\n",
            " 20  Flow IAT Max                 1000000 non-null  float64\n",
            " 21  Flow IAT Min                 1000000 non-null  float64\n",
            " 22  Fwd IAT Total                1000000 non-null  float64\n",
            " 23  Fwd IAT Mean                 1000000 non-null  float64\n",
            " 24  Fwd IAT Std                  1000000 non-null  float64\n",
            " 25  Fwd IAT Max                  1000000 non-null  float64\n",
            " 26  Fwd IAT Min                  1000000 non-null  float64\n",
            " 27  Bwd IAT Total                1000000 non-null  float64\n",
            " 28  Bwd IAT Mean                 1000000 non-null  float64\n",
            " 29  Bwd IAT Std                  1000000 non-null  float64\n",
            " 30  Bwd IAT Max                  1000000 non-null  float64\n",
            " 31  Bwd IAT Min                  1000000 non-null  float64\n",
            " 32  Fwd PSH Flags                1000000 non-null  int64  \n",
            " 33  Bwd PSH Flags                1000000 non-null  int64  \n",
            " 34  Fwd URG Flags                1000000 non-null  int64  \n",
            " 35  Bwd URG Flags                1000000 non-null  int64  \n",
            " 36  Fwd Header Length            1000000 non-null  int64  \n",
            " 37  Bwd Header Length            1000000 non-null  int64  \n",
            " 38  Fwd Packets/s                1000000 non-null  float64\n",
            " 39  Bwd Packets/s                1000000 non-null  float64\n",
            " 40  Min Packet Length            1000000 non-null  float64\n",
            " 41  Max Packet Length            1000000 non-null  float64\n",
            " 42  Packet Length Mean           1000000 non-null  float64\n",
            " 43  Packet Length Std            1000000 non-null  float64\n",
            " 44  Packet Length Variance       1000000 non-null  float64\n",
            " 45  FIN Flag Count               1000000 non-null  int64  \n",
            " 46  SYN Flag Count               1000000 non-null  int64  \n",
            " 47  RST Flag Count               1000000 non-null  int64  \n",
            " 48  PSH Flag Count               1000000 non-null  int64  \n",
            " 49  ACK Flag Count               1000000 non-null  int64  \n",
            " 50  URG Flag Count               1000000 non-null  int64  \n",
            " 51  CWE Flag Count               1000000 non-null  int64  \n",
            " 52  ECE Flag Count               1000000 non-null  int64  \n",
            " 53  Down/Up Ratio                1000000 non-null  float64\n",
            " 54  Average Packet Size          1000000 non-null  float64\n",
            " 55  Avg Fwd Segment Size         1000000 non-null  float64\n",
            " 56  Avg Bwd Segment Size         1000000 non-null  float64\n",
            " 57  Fwd Header Length.1          1000000 non-null  int64  \n",
            " 58  Fwd Avg Bytes/Bulk           1000000 non-null  int64  \n",
            " 59  Fwd Avg Packets/Bulk         1000000 non-null  int64  \n",
            " 60  Fwd Avg Bulk Rate            1000000 non-null  int64  \n",
            " 61  Bwd Avg Bytes/Bulk           1000000 non-null  int64  \n",
            " 62  Bwd Avg Packets/Bulk         1000000 non-null  int64  \n",
            " 63  Bwd Avg Bulk Rate            1000000 non-null  int64  \n",
            " 64  Subflow Fwd Packets          1000000 non-null  int64  \n",
            " 65  Subflow Fwd Bytes            1000000 non-null  int64  \n",
            " 66  Subflow Bwd Packets          1000000 non-null  int64  \n",
            " 67  Subflow Bwd Bytes            1000000 non-null  int64  \n",
            " 68  Init_Win_bytes_forward       1000000 non-null  int64  \n",
            " 69  Init_Win_bytes_backward      1000000 non-null  int64  \n",
            " 70  act_data_pkt_fwd             1000000 non-null  int64  \n",
            " 71  min_seg_size_forward         1000000 non-null  int64  \n",
            " 72  Active Mean                  1000000 non-null  float64\n",
            " 73  Active Std                   1000000 non-null  float64\n",
            " 74  Active Max                   1000000 non-null  float64\n",
            " 75  Active Min                   1000000 non-null  float64\n",
            " 76  Idle Mean                    1000000 non-null  float64\n",
            " 77  Idle Std                     1000000 non-null  float64\n",
            " 78  Idle Max                     1000000 non-null  float64\n",
            " 79  Idle Min                     1000000 non-null  float64\n",
            " 80  Inbound                      1000000 non-null  int64  \n",
            "dtypes: float64(45), int64(36)\n",
            "memory usage: 618.0 MB\n"
          ]
        }
      ]
    },
    {
      "cell_type": "code",
      "source": [
        "print(\"Labels are: \",y.unique())\n",
        "print('Number of samples in each class = \\n', y.value_counts())"
      ],
      "metadata": {
        "colab": {
          "base_uri": "https://localhost:8080/"
        },
        "id": "KWxlJ-TnuibW",
        "outputId": "2849e5d3-72df-4c73-b64e-d3a59cd81855"
      },
      "execution_count": null,
      "outputs": [
        {
          "output_type": "stream",
          "name": "stdout",
          "text": [
            "Labels are:  ['BENIGN' 'DrDoS_DNS' 'DrDoS_LDAP' 'DrDoS_MSSQL' 'DrDoS_NTP'\n",
            " 'DrDoS_NetBIOS' 'DrDoS_SNMP' 'DrDoS_SSDP' 'DrDoS_UDP' 'Syn' 'UDP-lag']\n",
            "Number of samples in each class = \n",
            " Syn              99619\n",
            "DrDoS_SSDP       99245\n",
            "DrDoS_SNMP       98507\n",
            "DrDoS_LDAP       98408\n",
            "DrDoS_NetBIOS    98313\n",
            "DrDoS_MSSQL      98014\n",
            "DrDoS_UDP        97873\n",
            "DrDoS_DNS        96646\n",
            "UDP-lag          96316\n",
            "DrDoS_NTP        85729\n",
            "BENIGN           31330\n",
            "Name: Label, dtype: int64\n"
          ]
        }
      ]
    },
    {
      "cell_type": "markdown",
      "source": [
        "Split the data to train, validation and test with ratio 0.5:0.25:0.25."
      ],
      "metadata": {
        "id": "h3wmLr7koEbh"
      }
    },
    {
      "cell_type": "code",
      "source": [
        "X_train, X_t, y_train, y_t = train_test_split(X, y, test_size=0.5, random_state=0, stratify=y)\n",
        "X_val, X_test, y_val, y_test = train_test_split(X_t, y_t, test_size=0.5, random_state=0, stratify=y_t)"
      ],
      "metadata": {
        "id": "5Krq81lxuk8E"
      },
      "execution_count": null,
      "outputs": []
    },
    {
      "cell_type": "markdown",
      "source": [
        "# **Data Preprocessing**"
      ],
      "metadata": {
        "id": "pvCG4wpwoYTu"
      }
    },
    {
      "cell_type": "markdown",
      "source": [
        "## Scaling\n",
        "\n",
        "Feature scaling using Min-Max scaling with range (0, 255)"
      ],
      "metadata": {
        "id": "7AlIPn9DocYA"
      }
    },
    {
      "cell_type": "code",
      "source": [
        "scaler = MinMaxScaler(feature_range=(0, 255))\n",
        "X_train_sc = scaler.fit_transform(X_train)\n",
        "X_val_sc = scaler.transform(X_val)\n",
        "X_test_sc = scaler.transform(X_test)"
      ],
      "metadata": {
        "id": "MNmzUryvuoGn"
      },
      "execution_count": null,
      "outputs": []
    },
    {
      "cell_type": "markdown",
      "source": [
        "## One-hot encoding\n",
        "\n",
        "One-hot encode the labels to match the format of the model's predictions."
      ],
      "metadata": {
        "id": "X6EwzdjZoy8q"
      }
    },
    {
      "cell_type": "code",
      "source": [
        "ohe = OneHotEncoder()\n",
        "y_train_enc = ohe.fit_transform(y_train.to_numpy().reshape(-1, 1)).toarray()\n",
        "y_val_enc = ohe.transform(y_val.to_numpy().reshape(-1, 1)).toarray()\n",
        "y_test_enc = ohe.transform(y_test.to_numpy().reshape(-1, 1)).toarray()"
      ],
      "metadata": {
        "id": "L7LbRgmDvUBv"
      },
      "execution_count": null,
      "outputs": []
    },
    {
      "cell_type": "markdown",
      "source": [
        "# **CNN model**"
      ],
      "metadata": {
        "id": "JkXQ7RENpPoz"
      }
    },
    {
      "cell_type": "markdown",
      "source": [
        "## Model Creation"
      ],
      "metadata": {
        "id": "ZHSGHzLHpWLQ"
      }
    },
    {
      "cell_type": "code",
      "source": [
        "cnn_model = tf.keras.Sequential()\n",
        "cnn_model.add(Input(shape=(81,)))\n",
        "cnn_model.add(Reshape((9,9,1)))\n",
        "cnn_model.add(Conv2D(filters=128,kernel_size=(3,3),padding=\"same\", activation=\"relu\"))\n",
        "cnn_model.add(Conv2D(filters=64,kernel_size=(3,3),padding=\"same\", activation=\"relu\"))\n",
        "cnn_model.add(MaxPooling2D(pool_size=(2,2)))\n",
        "cnn_model.add(Conv2D(filters=32,kernel_size=(3,3),padding=\"same\", activation=\"relu\"))\n",
        "cnn_model.add(MaxPooling2D(pool_size=(2,2)))\n",
        "cnn_model.add(Flatten())\n",
        "cnn_model.add(Dense(64,activation=\"relu\"))\n",
        "cnn_model.add(Dense(32,activation=\"relu\"))\n",
        "cnn_model.add(Dense(units=11, activation='softmax'))\n",
        "print(cnn_model.summary())"
      ],
      "metadata": {
        "colab": {
          "base_uri": "https://localhost:8080/"
        },
        "id": "_T0CrP-Jw2bW",
        "outputId": "eb325a23-be16-46cd-f8ae-cb780cfb84eb"
      },
      "execution_count": null,
      "outputs": [
        {
          "output_type": "stream",
          "name": "stdout",
          "text": [
            "Model: \"sequential\"\n",
            "_________________________________________________________________\n",
            " Layer (type)                Output Shape              Param #   \n",
            "=================================================================\n",
            " reshape (Reshape)           (None, 9, 9, 1)           0         \n",
            "                                                                 \n",
            " conv2d (Conv2D)             (None, 9, 9, 128)         1280      \n",
            "                                                                 \n",
            " conv2d_1 (Conv2D)           (None, 9, 9, 64)          73792     \n",
            "                                                                 \n",
            " max_pooling2d (MaxPooling2D  (None, 4, 4, 64)         0         \n",
            " )                                                               \n",
            "                                                                 \n",
            " conv2d_2 (Conv2D)           (None, 4, 4, 32)          18464     \n",
            "                                                                 \n",
            " max_pooling2d_1 (MaxPooling  (None, 2, 2, 32)         0         \n",
            " 2D)                                                             \n",
            "                                                                 \n",
            " flatten (Flatten)           (None, 128)               0         \n",
            "                                                                 \n",
            " dense (Dense)               (None, 64)                8256      \n",
            "                                                                 \n",
            " dense_1 (Dense)             (None, 32)                2080      \n",
            "                                                                 \n",
            " dense_2 (Dense)             (None, 11)                363       \n",
            "                                                                 \n",
            "=================================================================\n",
            "Total params: 104,235\n",
            "Trainable params: 104,235\n",
            "Non-trainable params: 0\n",
            "_________________________________________________________________\n",
            "None\n"
          ]
        }
      ]
    },
    {
      "cell_type": "markdown",
      "source": [
        "## Model Training"
      ],
      "metadata": {
        "id": "rF_5d19GpjqZ"
      }
    },
    {
      "cell_type": "code",
      "source": [
        "batchSize = 128\n",
        "nEpochs = 80\n",
        "\n",
        "cnn_model.compile(loss='categorical_crossentropy', optimizer=tf.keras.optimizers.Adam(), metrics=['accuracy'])\n",
        "history = cnn_model.fit(X_train_sc, y_train_enc, batch_size=batchSize, epochs=nEpochs, verbose=1, validation_data=(X_val_sc, y_val_enc))"
      ],
      "metadata": {
        "colab": {
          "base_uri": "https://localhost:8080/"
        },
        "id": "v3Dhw3s9w-Xg",
        "outputId": "d582b2c4-77c1-49a3-aa40-f576a30e050c"
      },
      "execution_count": null,
      "outputs": [
        {
          "output_type": "stream",
          "name": "stdout",
          "text": [
            "Epoch 1/80\n",
            "3907/3907 [==============================] - 32s 6ms/step - loss: 0.7072 - accuracy: 0.6561 - val_loss: 0.6316 - val_accuracy: 0.6794\n",
            "Epoch 2/80\n",
            "3907/3907 [==============================] - 23s 6ms/step - loss: 0.6349 - accuracy: 0.6776 - val_loss: 0.6272 - val_accuracy: 0.6788\n",
            "Epoch 3/80\n",
            "3907/3907 [==============================] - 23s 6ms/step - loss: 0.6197 - accuracy: 0.6823 - val_loss: 0.6126 - val_accuracy: 0.6847\n",
            "Epoch 4/80\n",
            "3907/3907 [==============================] - 23s 6ms/step - loss: 0.6122 - accuracy: 0.6857 - val_loss: 0.6015 - val_accuracy: 0.6843\n",
            "Epoch 5/80\n",
            "3907/3907 [==============================] - 23s 6ms/step - loss: 0.6081 - accuracy: 0.6877 - val_loss: 0.6070 - val_accuracy: 0.6912\n",
            "Epoch 6/80\n",
            "3907/3907 [==============================] - 23s 6ms/step - loss: 0.6052 - accuracy: 0.6888 - val_loss: 0.6122 - val_accuracy: 0.6849\n",
            "Epoch 7/80\n",
            "3907/3907 [==============================] - 23s 6ms/step - loss: 0.6021 - accuracy: 0.6912 - val_loss: 0.5968 - val_accuracy: 0.6877\n",
            "Epoch 8/80\n",
            "3907/3907 [==============================] - 23s 6ms/step - loss: 0.6003 - accuracy: 0.6928 - val_loss: 0.5950 - val_accuracy: 0.6960\n",
            "Epoch 9/80\n",
            "3907/3907 [==============================] - 23s 6ms/step - loss: 0.5982 - accuracy: 0.6943 - val_loss: 0.5936 - val_accuracy: 0.6980\n",
            "Epoch 10/80\n",
            "3907/3907 [==============================] - 23s 6ms/step - loss: 0.5969 - accuracy: 0.6959 - val_loss: 0.5907 - val_accuracy: 0.6972\n",
            "Epoch 11/80\n",
            "3907/3907 [==============================] - 23s 6ms/step - loss: 0.5955 - accuracy: 0.6967 - val_loss: 0.5901 - val_accuracy: 0.7001\n",
            "Epoch 12/80\n",
            "3907/3907 [==============================] - 23s 6ms/step - loss: 0.5944 - accuracy: 0.6980 - val_loss: 0.5872 - val_accuracy: 0.7033\n",
            "Epoch 13/80\n",
            "3907/3907 [==============================] - 23s 6ms/step - loss: 0.5922 - accuracy: 0.6990 - val_loss: 0.5882 - val_accuracy: 0.7021\n",
            "Epoch 14/80\n",
            "3907/3907 [==============================] - 23s 6ms/step - loss: 0.5921 - accuracy: 0.6995 - val_loss: 0.5924 - val_accuracy: 0.7025\n",
            "Epoch 15/80\n",
            "3907/3907 [==============================] - 23s 6ms/step - loss: 0.5904 - accuracy: 0.6998 - val_loss: 0.5856 - val_accuracy: 0.7023\n",
            "Epoch 16/80\n",
            "3907/3907 [==============================] - 23s 6ms/step - loss: 0.5921 - accuracy: 0.6995 - val_loss: 0.5935 - val_accuracy: 0.7005\n",
            "Epoch 17/80\n",
            "3907/3907 [==============================] - 23s 6ms/step - loss: 0.5896 - accuracy: 0.7007 - val_loss: 0.5956 - val_accuracy: 0.6954\n",
            "Epoch 18/80\n",
            "3907/3907 [==============================] - 23s 6ms/step - loss: 0.5889 - accuracy: 0.7005 - val_loss: 0.5861 - val_accuracy: 0.7027\n",
            "Epoch 19/80\n",
            "3907/3907 [==============================] - 23s 6ms/step - loss: 0.5892 - accuracy: 0.7003 - val_loss: 0.5892 - val_accuracy: 0.7023\n",
            "Epoch 20/80\n",
            "3907/3907 [==============================] - 23s 6ms/step - loss: 0.5878 - accuracy: 0.7015 - val_loss: 0.5855 - val_accuracy: 0.7025\n",
            "Epoch 21/80\n",
            "3907/3907 [==============================] - 23s 6ms/step - loss: 0.5870 - accuracy: 0.7018 - val_loss: 0.5872 - val_accuracy: 0.7019\n",
            "Epoch 22/80\n",
            "3907/3907 [==============================] - 23s 6ms/step - loss: 0.5874 - accuracy: 0.7014 - val_loss: 0.5861 - val_accuracy: 0.7024\n",
            "Epoch 23/80\n",
            "3907/3907 [==============================] - 23s 6ms/step - loss: 0.5869 - accuracy: 0.7019 - val_loss: 0.5846 - val_accuracy: 0.7043\n",
            "Epoch 24/80\n",
            "3907/3907 [==============================] - 23s 6ms/step - loss: 0.5863 - accuracy: 0.7019 - val_loss: 0.5873 - val_accuracy: 0.7009\n",
            "Epoch 25/80\n",
            "3907/3907 [==============================] - 23s 6ms/step - loss: 0.5858 - accuracy: 0.7021 - val_loss: 0.5846 - val_accuracy: 0.7011\n",
            "Epoch 26/80\n",
            "3907/3907 [==============================] - 23s 6ms/step - loss: 0.5853 - accuracy: 0.7021 - val_loss: 0.5826 - val_accuracy: 0.7017\n",
            "Epoch 27/80\n",
            "3907/3907 [==============================] - 23s 6ms/step - loss: 0.5868 - accuracy: 0.7010 - val_loss: 0.5902 - val_accuracy: 0.7025\n",
            "Epoch 28/80\n",
            "3907/3907 [==============================] - 23s 6ms/step - loss: 0.5853 - accuracy: 0.7021 - val_loss: 0.5901 - val_accuracy: 0.7016\n",
            "Epoch 29/80\n",
            "3907/3907 [==============================] - 22s 6ms/step - loss: 0.5846 - accuracy: 0.7024 - val_loss: 0.5796 - val_accuracy: 0.7061\n",
            "Epoch 30/80\n",
            "3907/3907 [==============================] - 23s 6ms/step - loss: 0.5849 - accuracy: 0.7022 - val_loss: 0.5826 - val_accuracy: 0.7049\n",
            "Epoch 31/80\n",
            "3907/3907 [==============================] - 22s 6ms/step - loss: 0.5849 - accuracy: 0.7023 - val_loss: 0.5871 - val_accuracy: 0.7029\n",
            "Epoch 32/80\n",
            "3907/3907 [==============================] - 22s 6ms/step - loss: 0.5843 - accuracy: 0.7021 - val_loss: 0.5813 - val_accuracy: 0.7019\n",
            "Epoch 33/80\n",
            "3907/3907 [==============================] - 23s 6ms/step - loss: 0.5845 - accuracy: 0.7028 - val_loss: 0.5844 - val_accuracy: 0.7021\n",
            "Epoch 34/80\n",
            "3907/3907 [==============================] - 22s 6ms/step - loss: 0.5849 - accuracy: 0.7030 - val_loss: 0.6113 - val_accuracy: 0.6935\n",
            "Epoch 35/80\n",
            "3907/3907 [==============================] - 22s 6ms/step - loss: 0.5839 - accuracy: 0.7028 - val_loss: 0.5895 - val_accuracy: 0.7034\n",
            "Epoch 36/80\n",
            "3907/3907 [==============================] - 22s 6ms/step - loss: 0.5841 - accuracy: 0.7027 - val_loss: 0.5808 - val_accuracy: 0.7046\n",
            "Epoch 37/80\n",
            "3907/3907 [==============================] - 22s 6ms/step - loss: 0.5834 - accuracy: 0.7034 - val_loss: 0.5899 - val_accuracy: 0.7028\n",
            "Epoch 38/80\n",
            "3907/3907 [==============================] - 22s 6ms/step - loss: 0.5838 - accuracy: 0.7035 - val_loss: 0.5796 - val_accuracy: 0.7065\n",
            "Epoch 39/80\n",
            "3907/3907 [==============================] - 22s 6ms/step - loss: 0.5830 - accuracy: 0.7033 - val_loss: 0.5811 - val_accuracy: 0.7038\n",
            "Epoch 40/80\n",
            "3907/3907 [==============================] - 22s 6ms/step - loss: 0.5827 - accuracy: 0.7034 - val_loss: 0.5784 - val_accuracy: 0.7068\n",
            "Epoch 41/80\n",
            "3907/3907 [==============================] - 22s 6ms/step - loss: 0.5840 - accuracy: 0.7026 - val_loss: 0.5859 - val_accuracy: 0.7049\n",
            "Epoch 42/80\n",
            "3907/3907 [==============================] - 22s 6ms/step - loss: 0.5854 - accuracy: 0.7016 - val_loss: 0.5917 - val_accuracy: 0.7006\n",
            "Epoch 43/80\n",
            "3907/3907 [==============================] - 22s 6ms/step - loss: 0.5841 - accuracy: 0.7028 - val_loss: 0.5840 - val_accuracy: 0.7035\n",
            "Epoch 44/80\n",
            "3907/3907 [==============================] - 22s 6ms/step - loss: 0.5841 - accuracy: 0.7022 - val_loss: 0.5862 - val_accuracy: 0.7046\n",
            "Epoch 45/80\n",
            "3907/3907 [==============================] - 22s 6ms/step - loss: 0.5839 - accuracy: 0.7026 - val_loss: 0.5820 - val_accuracy: 0.7054\n",
            "Epoch 46/80\n",
            "3907/3907 [==============================] - 23s 6ms/step - loss: 0.5841 - accuracy: 0.7028 - val_loss: 0.5872 - val_accuracy: 0.7028\n",
            "Epoch 47/80\n",
            "3907/3907 [==============================] - 23s 6ms/step - loss: 0.5843 - accuracy: 0.7024 - val_loss: 0.5828 - val_accuracy: 0.7052\n",
            "Epoch 48/80\n",
            "3907/3907 [==============================] - 22s 6ms/step - loss: 0.5834 - accuracy: 0.7028 - val_loss: 0.5827 - val_accuracy: 0.7035\n",
            "Epoch 49/80\n",
            "3907/3907 [==============================] - 22s 6ms/step - loss: 0.5829 - accuracy: 0.7033 - val_loss: 0.5792 - val_accuracy: 0.7066\n",
            "Epoch 50/80\n",
            "3907/3907 [==============================] - 23s 6ms/step - loss: 0.5837 - accuracy: 0.7029 - val_loss: 0.5807 - val_accuracy: 0.7059\n",
            "Epoch 51/80\n",
            "3907/3907 [==============================] - 22s 6ms/step - loss: 0.5822 - accuracy: 0.7035 - val_loss: 0.5851 - val_accuracy: 0.7016\n",
            "Epoch 52/80\n",
            "3907/3907 [==============================] - 22s 6ms/step - loss: 0.5836 - accuracy: 0.7021 - val_loss: 0.5816 - val_accuracy: 0.7055\n",
            "Epoch 53/80\n",
            "3907/3907 [==============================] - 23s 6ms/step - loss: 0.5831 - accuracy: 0.7027 - val_loss: 0.5846 - val_accuracy: 0.7054\n",
            "Epoch 54/80\n",
            "3907/3907 [==============================] - 23s 6ms/step - loss: 0.5828 - accuracy: 0.7035 - val_loss: 0.5868 - val_accuracy: 0.7036\n",
            "Epoch 55/80\n",
            "3907/3907 [==============================] - 23s 6ms/step - loss: 0.5826 - accuracy: 0.7030 - val_loss: 0.5813 - val_accuracy: 0.7062\n",
            "Epoch 56/80\n",
            "3907/3907 [==============================] - 22s 6ms/step - loss: 0.5849 - accuracy: 0.7024 - val_loss: 0.5876 - val_accuracy: 0.7026\n",
            "Epoch 57/80\n",
            "3907/3907 [==============================] - 22s 6ms/step - loss: 0.5848 - accuracy: 0.7029 - val_loss: 0.5870 - val_accuracy: 0.7043\n",
            "Epoch 58/80\n",
            "3907/3907 [==============================] - 22s 6ms/step - loss: 0.5845 - accuracy: 0.7024 - val_loss: 0.5807 - val_accuracy: 0.7054\n",
            "Epoch 59/80\n",
            "3907/3907 [==============================] - 22s 6ms/step - loss: 0.5838 - accuracy: 0.7029 - val_loss: 0.5845 - val_accuracy: 0.7017\n",
            "Epoch 60/80\n",
            "3907/3907 [==============================] - 23s 6ms/step - loss: 0.5826 - accuracy: 0.7034 - val_loss: 0.5832 - val_accuracy: 0.7060\n",
            "Epoch 61/80\n",
            "3907/3907 [==============================] - 23s 6ms/step - loss: 0.5844 - accuracy: 0.7033 - val_loss: 0.5824 - val_accuracy: 0.7081\n",
            "Epoch 62/80\n",
            "3907/3907 [==============================] - 23s 6ms/step - loss: 0.5819 - accuracy: 0.7032 - val_loss: 0.5937 - val_accuracy: 0.7037\n",
            "Epoch 63/80\n",
            "3907/3907 [==============================] - 23s 6ms/step - loss: 0.5833 - accuracy: 0.7033 - val_loss: 0.5872 - val_accuracy: 0.7031\n",
            "Epoch 64/80\n",
            "3907/3907 [==============================] - 23s 6ms/step - loss: 0.5837 - accuracy: 0.7031 - val_loss: 0.5869 - val_accuracy: 0.7006\n",
            "Epoch 65/80\n",
            "3907/3907 [==============================] - 23s 6ms/step - loss: 0.5824 - accuracy: 0.7036 - val_loss: 0.5796 - val_accuracy: 0.7065\n",
            "Epoch 66/80\n",
            "3907/3907 [==============================] - 23s 6ms/step - loss: 0.5816 - accuracy: 0.7032 - val_loss: 0.5836 - val_accuracy: 0.7059\n",
            "Epoch 67/80\n",
            "3907/3907 [==============================] - 23s 6ms/step - loss: 0.5827 - accuracy: 0.7037 - val_loss: 0.5838 - val_accuracy: 0.7053\n",
            "Epoch 68/80\n",
            "3907/3907 [==============================] - 22s 6ms/step - loss: 0.5817 - accuracy: 0.7035 - val_loss: 0.5893 - val_accuracy: 0.7037\n",
            "Epoch 69/80\n",
            "3907/3907 [==============================] - 22s 6ms/step - loss: 0.5806 - accuracy: 0.7035 - val_loss: 0.6002 - val_accuracy: 0.6955\n",
            "Epoch 70/80\n",
            "3907/3907 [==============================] - 22s 6ms/step - loss: 0.5820 - accuracy: 0.7039 - val_loss: 0.5815 - val_accuracy: 0.7045\n",
            "Epoch 71/80\n",
            "3907/3907 [==============================] - 23s 6ms/step - loss: 0.5809 - accuracy: 0.7046 - val_loss: 0.5872 - val_accuracy: 0.7045\n",
            "Epoch 72/80\n",
            "3907/3907 [==============================] - 23s 6ms/step - loss: 0.5800 - accuracy: 0.7048 - val_loss: 0.5814 - val_accuracy: 0.7044\n",
            "Epoch 73/80\n",
            "3907/3907 [==============================] - 23s 6ms/step - loss: 0.5810 - accuracy: 0.7040 - val_loss: 0.5804 - val_accuracy: 0.7053\n",
            "Epoch 74/80\n",
            "3907/3907 [==============================] - 23s 6ms/step - loss: 0.5832 - accuracy: 0.7043 - val_loss: 0.5833 - val_accuracy: 0.7056\n",
            "Epoch 75/80\n",
            "3907/3907 [==============================] - 22s 6ms/step - loss: 0.5808 - accuracy: 0.7045 - val_loss: 0.5794 - val_accuracy: 0.7048\n",
            "Epoch 76/80\n",
            "3907/3907 [==============================] - 22s 6ms/step - loss: 0.5806 - accuracy: 0.7034 - val_loss: 0.5828 - val_accuracy: 0.7049\n",
            "Epoch 77/80\n",
            "3907/3907 [==============================] - 22s 6ms/step - loss: 0.5803 - accuracy: 0.7045 - val_loss: 0.5933 - val_accuracy: 0.7036\n",
            "Epoch 78/80\n",
            "3907/3907 [==============================] - 23s 6ms/step - loss: 0.5803 - accuracy: 0.7047 - val_loss: 0.5818 - val_accuracy: 0.7070\n",
            "Epoch 79/80\n",
            "3907/3907 [==============================] - 22s 6ms/step - loss: 0.5822 - accuracy: 0.7039 - val_loss: 0.5876 - val_accuracy: 0.7057\n",
            "Epoch 80/80\n",
            "3907/3907 [==============================] - 22s 6ms/step - loss: 0.5836 - accuracy: 0.7037 - val_loss: 0.5874 - val_accuracy: 0.7057\n"
          ]
        }
      ]
    },
    {
      "cell_type": "markdown",
      "source": [
        "Save the trained model to be able to reuse it in the hybrid model. "
      ],
      "metadata": {
        "id": "CA-EwiWRpnhv"
      }
    },
    {
      "cell_type": "code",
      "source": [
        "cnn_model.save(\"cnn_model.h5\")"
      ],
      "metadata": {
        "id": "z12iI2kOxreG"
      },
      "execution_count": null,
      "outputs": []
    },
    {
      "cell_type": "markdown",
      "source": [
        "## Model Testing and Evaluation"
      ],
      "metadata": {
        "id": "Gw62-Fr4p4Eb"
      }
    },
    {
      "cell_type": "markdown",
      "source": [
        "Plot accuracy curves of the train and validation datasets."
      ],
      "metadata": {
        "id": "LAqE_hRgqLKs"
      }
    },
    {
      "cell_type": "code",
      "source": [
        "plt.plot(history.history['accuracy'])\n",
        "plt.plot(history.history['val_accuracy'])\n",
        "plt.title('Model Accuracy')\n",
        "plt.ylabel('Accuracy')\n",
        "plt.xlabel('Epoch')\n",
        "plt.legend(['train', 'validation'], loc='upper left')\n",
        "plt.show()"
      ],
      "metadata": {
        "colab": {
          "base_uri": "https://localhost:8080/",
          "height": 295
        },
        "id": "uPmsEVE0PvGn",
        "outputId": "ac93cfb5-06c9-4d9d-a776-11301fc46030"
      },
      "execution_count": null,
      "outputs": [
        {
          "output_type": "display_data",
          "data": {
            "image/png": "[encoded data removed]",
            "text/plain": [
              "<Figure size 432x288 with 1 Axes>"
            ]
          },
          "metadata": {
            "needs_background": "light"
          }
        }
      ]
    },
    {
      "cell_type": "markdown",
      "source": [
        "Plot loss curves of the train and validation datasets."
      ],
      "metadata": {
        "id": "E3b3Gw49qWvx"
      }
    },
    {
      "cell_type": "code",
      "source": [
        "plt.plot(history.history['loss'])\n",
        "plt.plot(history.history['val_loss'])\n",
        "plt.title('Model loss')\n",
        "plt.ylabel('Loss')\n",
        "plt.xlabel('Epoch')\n",
        "plt.legend(['train', 'validation'], loc='upper left')\n",
        "plt.show()"
      ],
      "metadata": {
        "colab": {
          "base_uri": "https://localhost:8080/",
          "height": 295
        },
        "id": "rS07NeVMQkLt",
        "outputId": "3c6bad22-e6ce-45e6-f1cb-fbfec238846c"
      },
      "execution_count": null,
      "outputs": [
        {
          "output_type": "display_data",
          "data": {
            "image/png": "[encoded data removed]",
            "text/plain": [
              "<Figure size 432x288 with 1 Axes>"
            ]
          },
          "metadata": {
            "needs_background": "light"
          }
        }
      ]
    },
    {
      "cell_type": "markdown",
      "source": [
        "## Predictions"
      ],
      "metadata": {
        "id": "00fZDW9_qpxP"
      }
    },
    {
      "cell_type": "code",
      "source": [
        "y_train_pred_prob = cnn_model.predict(X_train_sc)\n",
        "y_train_pred = y_train_pred_prob.argmax(axis=-1)\n",
        "\n",
        "y_val_pred_prob = cnn_model.predict(X_val_sc)\n",
        "y_val_pred = y_val_pred_prob.argmax(axis=-1)\n",
        "\n",
        "y_pred_prob = cnn_model.predict(X_test_sc)\n",
        "y_pred = y_pred_prob.argmax(axis=-1)"
      ],
      "metadata": {
        "id": "b03Nz2y-Rc7N"
      },
      "execution_count": null,
      "outputs": []
    },
    {
      "cell_type": "markdown",
      "source": [
        "**The classes' labels are mapped to the numbers as follows:**\n",
        "\n",
        "BENIGN ---> 0\n",
        "\n",
        "DrDoS_DNS ---> 1\n",
        "\n",
        "DrDoS_LDAP ---> 2\n",
        "\n",
        "DrDoS_MSSQL ---> 3\n",
        "\n",
        "DrDoS_NTP ---> 4\n",
        "\n",
        "DrDoS_NetBIOS ---> 5\n",
        "\n",
        "DrDoS_SNMP ---> 6\n",
        "\n",
        "DrDoS_SSDP ---> 7\n",
        "\n",
        "DrDoS_UDP ---> 8\n",
        "\n",
        "Syn ---> 9\n",
        "\n",
        "UDP-lag ---> 10"
      ],
      "metadata": {
        "id": "YoaZOJnaqwL5"
      }
    },
    {
      "cell_type": "markdown",
      "source": [
        "Evaluate the model's perofrmance on the test dataset by metrics in the classification report (accuracy, precision, recall, f1-score) and by plotting the confusion matrix."
      ],
      "metadata": {
        "id": "hdLp06HJsIKO"
      }
    },
    {
      "cell_type": "code",
      "source": [
        "print(classification_report(np.argmax(y_test_enc, axis=1), y_pred.argmax(axis=-1)))\n",
        "conf_mx = confusion_matrix(np.argmax(y_test_enc, axis=1), y_test_pred.argmax(axis=-1))\n",
        "fig, ax = plt.subplots(figsize=(10,10))\n",
        "disp = ConfusionMatrixDisplay(confusion_matrix=conf_mx)\n",
        "disp.plot(ax=ax)\n",
        "plt.show()"
      ],
      "metadata": {
        "colab": {
          "base_uri": "https://localhost:8080/",
          "height": 892
        },
        "id": "g5lUdVvhA6XA",
        "outputId": "81b2f86f-5239-430e-d290-e9b9ab114a7c"
      },
      "execution_count": null,
      "outputs": [
        {
          "output_type": "stream",
          "name": "stdout",
          "text": [
            "              precision    recall  f1-score   support\n",
            "\n",
            "           0       1.00      1.00      1.00      7833\n",
            "           1       0.66      0.47      0.55     24162\n",
            "           2       0.55      0.52      0.54     24602\n",
            "           3       0.96      0.97      0.96     24503\n",
            "           4       0.99      1.00      0.99     21432\n",
            "           5       0.95      0.98      0.97     24578\n",
            "           6       0.65      0.85      0.74     24626\n",
            "           7       0.45      0.03      0.05     24812\n",
            "           8       0.47      0.97      0.63     24469\n",
            "           9       0.61      1.00      0.76     24904\n",
            "          10       0.97      0.20      0.33     24079\n",
            "\n",
            "    accuracy                           0.71    250000\n",
            "   macro avg       0.75      0.73      0.68    250000\n",
            "weighted avg       0.73      0.71      0.66    250000\n",
            "\n"
          ]
        },
        {
          "output_type": "display_data",
          "data": {
            "image/png": "[encoded data removed]",
            "text/plain": [
              "<Figure size 720x720 with 2 Axes>"
            ]
          },
          "metadata": {
            "needs_background": "light"
          }
        }
      ]
    },
    {
      "cell_type": "markdown",
      "source": [
        "Save the datasets and predictions to use for the training of the hybrid model."
      ],
      "metadata": {
        "id": "cph409OQslux"
      }
    },
    {
      "cell_type": "code",
      "source": [
        "from numpy import savetxt\n",
        "\n",
        "savetxt('X_train.csv', X_train_sc, delimiter=',')\n",
        "savetxt('X_val.csv', X_val_sc, delimiter=',')\n",
        "savetxt('X_test.csv', X_test_sc, delimiter=',')\n",
        "\n",
        "savetxt('y_train.csv', y_train_enc, delimiter=',')\n",
        "savetxt('y_val.csv', y_val_enc, delimiter=',')\n",
        "savetxt('y_test.csv', y_test_enc, delimiter=',')"
      ],
      "metadata": {
        "id": "UocvpZgTwpaQ"
      },
      "execution_count": null,
      "outputs": []
    },
    {
      "cell_type": "code",
      "source": [
        "savetxt('cnn_train.csv', y_train_pred_prob, delimiter=',')\n",
        "savetxt('cnn_val.csv', y_val_pred_prob, delimiter=',')\n",
        "savetxt('cnn_test.csv', y_pred_prob, delimiter=',')"
      ],
      "metadata": {
        "id": "OhupBFGFjjhc"
      },
      "execution_count": null,
      "outputs": []
    }
  ]
}