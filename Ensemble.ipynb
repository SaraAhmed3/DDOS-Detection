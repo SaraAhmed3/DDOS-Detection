{
  "nbformat": 4,
  "nbformat_minor": 0,
  "metadata": {
    "colab": {
      "name": "Ensemble.ipynb",
      "provenance": []
    },
    "kernelspec": {
      "name": "python3",
      "display_name": "Python 3"
    },
    "language_info": {
      "name": "python"
    }
  },
  "cells": [
    {
      "cell_type": "markdown",
      "source": [
        "## Importing Libraries"
      ],
      "metadata": {
        "id": "S-75r7CnqJ5f"
      }
    },
    {
      "cell_type": "code",
      "execution_count": 1,
      "metadata": {
        "id": "kTF3x4Luqi_z"
      },
      "outputs": [],
      "source": [
        "import pandas as pd\n",
        "import numpy as np"
      ]
    },
    {
      "cell_type": "code",
      "source": [
        "#reading the data generated from CNN2 notebook\n",
        "X_train = pd.read_csv('/content/drive/MyDrive/AI for CS/Datasets/X_train.csv')\n",
        "X_test = pd.read_csv('/content/drive/MyDrive/AI for CS/Datasets/X_test.csv')\n",
        "y_train = pd.read_csv('/content/drive/MyDrive/AI for CS/Datasets/y_train.csv')\n",
        "y_test = pd.read_csv('/content/drive/MyDrive/AI for CS/Datasets/y_test.csv')"
      ],
      "metadata": {
        "id": "qKRMrXCDrXyB"
      },
      "execution_count": 11,
      "outputs": []
    },
    {
      "cell_type": "code",
      "source": [
        "#Add a third dimension to the data\n",
        "def transform_data(X):\n",
        "  new_X = []\n",
        "  for i in range(X.shape[0]):\n",
        "    new_X.append(X.iloc[i].values.reshape(1,81))\n",
        "  return np.array(new_X)"
      ],
      "metadata": {
        "id": "GKKFwYiz2HG7"
      },
      "execution_count": 12,
      "outputs": []
    },
    {
      "cell_type": "code",
      "source": [
        "#Add a third dimension to the labels\n",
        "def transform_label(y):\n",
        "  new_y = []\n",
        "  for i in range(y.shape[0]):\n",
        "    new_y.append(y.iloc[i].values.reshape(1,11))\n",
        "  return np.array(new_y)"
      ],
      "metadata": {
        "id": "bHEqN1rj2Kv-"
      },
      "execution_count": 13,
      "outputs": []
    },
    {
      "cell_type": "code",
      "source": [
        "lstm_tr = transform_data(X_train)\n",
        "lstm_te = transform_data(X_test)"
      ],
      "metadata": {
        "id": "Us70dW0z2TXc"
      },
      "execution_count": 15,
      "outputs": []
    },
    {
      "cell_type": "code",
      "source": [
        "from tensorflow import keras"
      ],
      "metadata": {
        "id": "h4HbtfBW1YB1"
      },
      "execution_count": 9,
      "outputs": []
    },
    {
      "cell_type": "code",
      "source": [
        "#loading the lstm model\n",
        "lstm_model = keras.models.load_model('/content/drive/MyDrive/AI for CS/models/lstm.h5')"
      ],
      "metadata": {
        "id": "dV1O-GJn1Doh"
      },
      "execution_count": 10,
      "outputs": []
    },
    {
      "cell_type": "code",
      "source": [
        "#Getting class predictions for training and testing\n",
        "lstm_train = lstm_model.predict(lstm_tr)\n",
        "lstm_test = lstm_model.predict(lstm_te)"
      ],
      "metadata": {
        "id": "2b7RHdxN1rKc"
      },
      "execution_count": 17,
      "outputs": []
    },
    {
      "cell_type": "code",
      "source": [
        "#Restoring the normal shape for the labels and removing the third dim\n",
        "lstm_train = lstm_train.reshape((lstm_train.shape[0], lstm_train.shape[2]))\n",
        "lstm_test = lstm_test.reshape((lstm_test.shape[0], lstm_test.shape[2]))"
      ],
      "metadata": {
        "id": "LFCmHMoj2rk_"
      },
      "execution_count": 18,
      "outputs": []
    },
    {
      "cell_type": "code",
      "source": [
        "#Getting the index of max probability as the model's prediction\n",
        "lstm_tr_pred = [np.argmax(lstm_train[i]) for i in range(lstm_train.shape[0])]\n",
        "lstm_te_pred = [np.argmax(lstm_test[i]) for i in range(lstm_test.shape[0])]"
      ],
      "metadata": {
        "id": "8caS3Vjq25ZO"
      },
      "execution_count": 22,
      "outputs": []
    },
    {
      "cell_type": "code",
      "source": [
        "#Getting the index with the number 1 as true label\n",
        "y_train = [np.argmax(y_train.iloc[i]) for i in range(y_train.shape[0])]"
      ],
      "metadata": {
        "id": "G_uXGUrk-h7P"
      },
      "execution_count": 55,
      "outputs": []
    },
    {
      "cell_type": "code",
      "source": [
        "#Getting the index with the number 1 as true label\n",
        "y_test = [np.argmax(y_test.iloc[i]) for i in range(y_test.shape[0])]"
      ],
      "metadata": {
        "id": "2-pUH1mW39eE"
      },
      "execution_count": 24,
      "outputs": []
    },
    {
      "cell_type": "code",
      "source": [
        "#Evaluating the preformance with precision, recall, f1-score and accuracy\n",
        "from sklearn.metrics import f1_score, confusion_matrix, precision_score, recall_score, accuracy_score\n",
        "fscore_lstm = f1_score(y_test, lstm_te_pred, average= 'macro')\n",
        "precision_lstm = precision_score(y_test, lstm_te_pred, average= 'macro')\n",
        "recall_lstm = recall_score(y_test, lstm_te_pred, average= 'macro') \n",
        "accuracy_lstm = accuracy_score(y_test, lstm_te_pred)"
      ],
      "metadata": {
        "id": "MoepQzQD3092"
      },
      "execution_count": 95,
      "outputs": []
    },
    {
      "cell_type": "code",
      "source": [
        "#Adding the preformance to dataframe\n",
        "performance = {'precision': [precision_lstm], 'recall': [recall_lstm], 'f1_score': [fscore_lstm], 'classifier': 'LSTM'}\n",
        "performance_df = pd.DataFrame(data= performance)"
      ],
      "metadata": {
        "id": "2WvQVs4y9g__"
      },
      "execution_count": 88,
      "outputs": []
    },
    {
      "cell_type": "code",
      "source": [
        "print(accuracy_lstm)\n",
        "print(fscore)\n",
        "print(precision_lstm)\n",
        "print(recall_lstm)"
      ],
      "metadata": {
        "colab": {
          "base_uri": "https://localhost:8080/"
        },
        "id": "c1X3lweR4XQv",
        "outputId": "36173450-2bca-4e1b-ff9f-96895bbeb573"
      },
      "execution_count": 96,
      "outputs": [
        {
          "output_type": "stream",
          "name": "stdout",
          "text": [
            "0.6961667846671387\n",
            "0.6773950348998947\n",
            "0.7428504186232743\n",
            "0.7162511746094276\n"
          ]
        }
      ]
    },
    {
      "cell_type": "code",
      "source": [
        "#Plotting the confusion matrix for thr LSTM model\n",
        "conf_matrix_lstm = confusion_matrix(y_test, lstm_te_pred)\n",
        "import matplotlib.pyplot as plt\n",
        "from mlxtend.plotting import plot_confusion_matrix\n",
        " \n",
        "fig, ax = plot_confusion_matrix(conf_mat= conf_matrix_lstm, figsize= (7, 7), cmap= plt.cm.binary)\n",
        "plt.xlabel('Predictions', fontsize=18)\n",
        "plt.ylabel('Actuals', fontsize=18)\n",
        "plt.title('Confusion Matrix', fontsize=18)\n",
        "plt.show()"
      ],
      "metadata": {
        "colab": {
          "base_uri": "https://localhost:8080/",
          "height": 489
        },
        "id": "xHPrs3qG42Yd",
        "outputId": "57a59193-4253-4a46-f4ce-326c118ef6c0"
      },
      "execution_count": 107,
      "outputs": [
        {
          "output_type": "display_data",
          "data": {
            "image/png": "[encoded data removed]",
            "text/plain": [
              "<Figure size 504x504 with 1 Axes>"
            ]
          },
          "metadata": {
            "needs_background": "light"
          }
        }
      ]
    },
    {
      "cell_type": "code",
      "source": [
        "#loading the cnn model\n",
        "cnn_model = keras.models.load_model('/content/drive/MyDrive/AI for CS/models/cnn_model.h5')"
      ],
      "metadata": {
        "id": "52Fj64CV6ECv"
      },
      "execution_count": 38,
      "outputs": []
    },
    {
      "cell_type": "code",
      "source": [
        "#obtaining the class predictions for train and test sets\n",
        "cnn_train = cnn_model.predict(X_train)\n",
        "cnn_test = cnn_model.predict(X_test)"
      ],
      "metadata": {
        "id": "GmPgnay96WH3"
      },
      "execution_count": 41,
      "outputs": []
    },
    {
      "cell_type": "code",
      "source": [
        "#Getting the index of the largest probability as final predicition\n",
        "cnn_tr_pred = [np.argmax(cnn_train[i]) for i in range(cnn_train.shape[0])]\n",
        "cnn_te_pred = [np.argmax(cnn_test[i]) for i in range(cnn_test.shape[0])]"
      ],
      "metadata": {
        "id": "bmSZ3sNU6h6X"
      },
      "execution_count": 42,
      "outputs": []
    },
    {
      "cell_type": "code",
      "source": [
        "#Evaluating the preformance of the model\n",
        "cnn_fscore = f1_score(y_test, cnn_te_pred, average= 'macro')\n",
        "cnn_precision = precision_score(y_test, cnn_te_pred, average= 'macro')\n",
        "cnn_recall = recall_score(y_test, cnn_te_pred, average= 'macro')"
      ],
      "metadata": {
        "id": "Ihw-YziB9JOB"
      },
      "execution_count": 48,
      "outputs": []
    },
    {
      "cell_type": "code",
      "source": [
        "#The preformance is being added to the dataframe\n",
        "performance = {'precision': cnn_precision, 'recall': cnn_recall, 'f1_score': cnn_fscore, 'classifier': 'CNN'}\n",
        "performance_df = performance_df.append(performance, ignore_index=True)"
      ],
      "metadata": {
        "id": "F9IoMEt_9t0z"
      },
      "execution_count": 89,
      "outputs": []
    },
    {
      "cell_type": "code",
      "source": [
        "#The confusion matrix for the CNN\n",
        "conf_matrix_cnn = confusion_matrix(y_test, cnn_te_pred)\n",
        "fig, ax = plot_confusion_matrix(conf_mat= conf_matrix_cnn, figsize= (7, 7), cmap= plt.cm.binary)\n",
        "plt.xlabel('Predictions', fontsize=18)\n",
        "plt.ylabel('Actuals', fontsize=18)\n",
        "plt.title('Confusion Matrix', fontsize=18)\n",
        "plt.show()"
      ],
      "metadata": {
        "colab": {
          "base_uri": "https://localhost:8080/",
          "height": 489
        },
        "id": "1tbNjSNF6uBB",
        "outputId": "2fb9d971-2229-468a-fd69-6772d9705591"
      },
      "execution_count": 108,
      "outputs": [
        {
          "output_type": "display_data",
          "data": {
            "image/png": "[encoded data removed]",
            "text/plain": [
              "<Figure size 504x504 with 1 Axes>"
            ]
          },
          "metadata": {
            "needs_background": "light"
          }
        }
      ]
    },
    {
      "cell_type": "code",
      "source": [
        "#Making new data from the LSTM and CNN predictions\n",
        "X_train_full = pd.DataFrame(cnn_tr_pred)\n",
        "X_train_full['LSTM'] = lstm_tr_pred"
      ],
      "metadata": {
        "id": "nMcpfgg5-O1M"
      },
      "execution_count": 56,
      "outputs": []
    },
    {
      "cell_type": "code",
      "source": [
        "#MAking test data for evaluation using LSTM and CNN predcitions\n",
        "X_test_full = pd.DataFrame(cnn_te_pred)\n",
        "X_test_full['LSTM'] = lstm_te_pred"
      ],
      "metadata": {
        "id": "KjcJiZpXBZ5n"
      },
      "execution_count": 69,
      "outputs": []
    },
    {
      "cell_type": "code",
      "source": [
        "from sklearn.linear_model import LogisticRegression"
      ],
      "metadata": {
        "id": "mPNY9_3AtHRc"
      },
      "execution_count": 53,
      "outputs": []
    },
    {
      "cell_type": "code",
      "source": [
        "#Using Logisitc Regression for the final prediction\n",
        "LR = LogisticRegression(solver= 'newton-cg', penalty= 'l2', C= 0.7)\n",
        "LR.fit(X_train_full, y_train)"
      ],
      "metadata": {
        "colab": {
          "base_uri": "https://localhost:8080/"
        },
        "id": "aSwoa_wgtfSz",
        "outputId": "49c11e95-9c69-441d-c733-24cb42aab6ef"
      },
      "execution_count": 68,
      "outputs": [
        {
          "output_type": "stream",
          "name": "stderr",
          "text": [
            "/usr/local/lib/python3.7/dist-packages/sklearn/utils/validation.py:1679: FutureWarning: Feature names only support names that are all strings. Got feature names with dtypes: ['int', 'str']. An error will be raised in 1.2.\n",
            "  FutureWarning,\n"
          ]
        },
        {
          "output_type": "execute_result",
          "data": {
            "text/plain": [
              "LogisticRegression(C=0.7, solver='newton-cg')"
            ]
          },
          "metadata": {},
          "execution_count": 68
        }
      ]
    },
    {
      "cell_type": "code",
      "source": [
        "#Using the logisitc regression model for testing\n",
        "pred_lr = LR.predict(X_test_full)"
      ],
      "metadata": {
        "colab": {
          "base_uri": "https://localhost:8080/"
        },
        "id": "2_TmhTUf_Wpg",
        "outputId": "db66dd74-52d6-4795-95da-8524f7c685a8"
      },
      "execution_count": 71,
      "outputs": [
        {
          "output_type": "stream",
          "name": "stderr",
          "text": [
            "/usr/local/lib/python3.7/dist-packages/sklearn/utils/validation.py:1679: FutureWarning: Feature names only support names that are all strings. Got feature names with dtypes: ['int', 'str']. An error will be raised in 1.2.\n",
            "  FutureWarning,\n"
          ]
        }
      ]
    },
    {
      "cell_type": "code",
      "source": [
        "#Checking the preformance of the Logisitc Regression along with LSTM and CNN outputs\n",
        "fscore_lr = f1_score(y_test, pred_lr, average= 'macro')\n",
        "precision_lr = precision_score(y_test, pred_lr, average= 'macro')\n",
        "recall_lr = recall_score(y_test, pred_lr, average= 'macro')"
      ],
      "metadata": {
        "id": "wgUTDUyjAqw9"
      },
      "execution_count": 72,
      "outputs": []
    },
    {
      "cell_type": "code",
      "source": [
        "#Evaluating the performance Logistic Regression\n",
        "performance = {'precision': precision_lr, 'recall': recall_lr, 'f1_score': fscore_lr, 'classifier': 'Ensemble LR'}\n",
        "performance_df = performance_df.append(performance, ignore_index=True)"
      ],
      "metadata": {
        "id": "ZadSfpb7BPRI"
      },
      "execution_count": 90,
      "outputs": []
    },
    {
      "cell_type": "code",
      "source": [
        "from sklearn.tree import DecisionTreeClassifier\n",
        "DT = DecisionTreeClassifier(random_state=0)\n",
        "DT.fit(X_train_full, y_train)"
      ],
      "metadata": {
        "colab": {
          "base_uri": "https://localhost:8080/"
        },
        "id": "95zqaPlZFXTP",
        "outputId": "f3e87c2f-9550-4161-d482-88170b5876c9"
      },
      "execution_count": 77,
      "outputs": [
        {
          "output_type": "stream",
          "name": "stderr",
          "text": [
            "/usr/local/lib/python3.7/dist-packages/sklearn/utils/validation.py:1679: FutureWarning: Feature names only support names that are all strings. Got feature names with dtypes: ['int', 'str']. An error will be raised in 1.2.\n",
            "  FutureWarning,\n"
          ]
        },
        {
          "output_type": "execute_result",
          "data": {
            "text/plain": [
              "DecisionTreeClassifier(random_state=0)"
            ]
          },
          "metadata": {},
          "execution_count": 77
        }
      ]
    },
    {
      "cell_type": "code",
      "source": [
        "#Using Decision Tree to group the predictions\n",
        "pred_dt = DT.predict(X_test_full)"
      ],
      "metadata": {
        "colab": {
          "base_uri": "https://localhost:8080/"
        },
        "id": "nxO4yqLdFi6q",
        "outputId": "73518ac3-bf9b-4dac-8e4d-a581e4a34b8f"
      },
      "execution_count": 78,
      "outputs": [
        {
          "output_type": "stream",
          "name": "stderr",
          "text": [
            "/usr/local/lib/python3.7/dist-packages/sklearn/utils/validation.py:1679: FutureWarning: Feature names only support names that are all strings. Got feature names with dtypes: ['int', 'str']. An error will be raised in 1.2.\n",
            "  FutureWarning,\n"
          ]
        }
      ]
    },
    {
      "cell_type": "code",
      "source": [
        "#Checking the preformance\n",
        "fscore_dt = f1_score(y_test, pred_dt, average= 'macro')\n",
        "precision_dt = precision_score(y_test, pred_dt, average= 'macro')\n",
        "recall_dt = recall_score(y_test, pred_dt, average= 'macro')"
      ],
      "metadata": {
        "id": "MGboYMOjFtRg"
      },
      "execution_count": 79,
      "outputs": []
    },
    {
      "cell_type": "code",
      "source": [
        "performance = {'precision': precision_dt, 'recall': recall_dt, 'f1_score': fscore_dt, 'classifier': 'Ensemble DT'}\n",
        "performance_df = performance_df.append(performance, ignore_index=True)"
      ],
      "metadata": {
        "id": "EB7mcPePF4jd"
      },
      "execution_count": 91,
      "outputs": []
    },
    {
      "cell_type": "code",
      "source": [
        "performance_df"
      ],
      "metadata": {
        "colab": {
          "base_uri": "https://localhost:8080/",
          "height": 174
        },
        "id": "A8GtF2mHEgXS",
        "outputId": "39f5851f-c330-492f-8e52-bbf103a019ce"
      },
      "execution_count": 111,
      "outputs": [
        {
          "output_type": "execute_result",
          "data": {
            "text/html": [
              "<div>\n",
              "<style scoped>\n",
              "    .dataframe tbody tr th:only-of-type {\n",
              "        vertical-align: middle;\n",
              "    }\n",
              "\n",
              "    .dataframe tbody tr th {\n",
              "        vertical-align: top;\n",
              "    }\n",
              "\n",
              "    .dataframe thead th {\n",
              "        text-align: right;\n",
              "    }\n",
              "</style>\n",
              "<table border=\"1\" class=\"dataframe\">\n",
              "  <thead>\n",
              "    <tr style=\"text-align: right;\">\n",
              "      <th></th>\n",
              "      <th>precision</th>\n",
              "      <th>recall</th>\n",
              "      <th>f1_score</th>\n",
              "      <th>classifier</th>\n",
              "    </tr>\n",
              "  </thead>\n",
              "  <tbody>\n",
              "    <tr>\n",
              "      <th>0</th>\n",
              "      <td>0.742850</td>\n",
              "      <td>0.716251</td>\n",
              "      <td>0.677395</td>\n",
              "      <td>LSTM</td>\n",
              "    </tr>\n",
              "    <tr>\n",
              "      <th>1</th>\n",
              "      <td>0.750424</td>\n",
              "      <td>0.725965</td>\n",
              "      <td>0.683749</td>\n",
              "      <td>CNN</td>\n",
              "    </tr>\n",
              "    <tr>\n",
              "      <th>2</th>\n",
              "      <td>0.693766</td>\n",
              "      <td>0.708138</td>\n",
              "      <td>0.638980</td>\n",
              "      <td>Ensemble LR</td>\n",
              "    </tr>\n",
              "    <tr>\n",
              "      <th>3</th>\n",
              "      <td>0.753700</td>\n",
              "      <td>0.726462</td>\n",
              "      <td>0.683457</td>\n",
              "      <td>Ensemble DT</td>\n",
              "    </tr>\n",
              "  </tbody>\n",
              "</table>\n",
              "</div>"
            ],
            "text/plain": [
              "   precision    recall  f1_score   classifier\n",
              "0   0.742850  0.716251  0.677395         LSTM\n",
              "1   0.750424  0.725965  0.683749          CNN\n",
              "2   0.693766  0.708138  0.638980  Ensemble LR\n",
              "3   0.753700  0.726462  0.683457  Ensemble DT"
            ]
          },
          "metadata": {},
          "execution_count": 111
        }
      ]
    },
    {
      "cell_type": "code",
      "source": [
        "#Comapring the LSTM CNN single models with ensemble with Logisitc Regression and Decision Tree\n",
        "m_color = ['lightskyblue', 'cornflowerblue', 'navy']\n",
        "performance_df.plot(x='classifier', kind='bar', title='Comparison with the Ensemble', \n",
        "                        color= m_color, grid=  True, figsize= (10, 8))"
      ],
      "metadata": {
        "colab": {
          "base_uri": "https://localhost:8080/",
          "height": 586
        },
        "id": "CYoOsnZKElMg",
        "outputId": "2d8dc841-55e4-4868-8803-b6a4fdbfdbb2"
      },
      "execution_count": 110,
      "outputs": [
        {
          "output_type": "execute_result",
          "data": {
            "text/plain": [
              "<matplotlib.axes._subplots.AxesSubplot at 0x7fbd1f1fcd90>"
            ]
          },
          "metadata": {},
          "execution_count": 110
        },
        {
          "output_type": "display_data",
          "data": {
            "image/png": "[encoded data removed]",
            "text/plain": [
              "<Figure size 720x576 with 1 Axes>"
            ]
          },
          "metadata": {
            "needs_background": "light"
          }
        }
      ]
    }
  ]
}