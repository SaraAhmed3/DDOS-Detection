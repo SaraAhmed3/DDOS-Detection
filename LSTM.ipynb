{
  "nbformat": 4,
  "nbformat_minor": 0,
  "metadata": {
    "colab": {
      "name": "LSTM.ipynb",
      "provenance": [],
      "collapsed_sections": [],
      "machine_shape": "hm"
    },
    "kernelspec": {
      "name": "python3",
      "display_name": "Python 3"
    },
    "language_info": {
      "name": "python"
    },
    "accelerator": "GPU"
  },
  "cells": [
    {
      "cell_type": "markdown",
      "source": [
        "## Importing Libraries"
      ],
      "metadata": {
        "id": "6wDE1zYfo3ea"
      }
    },
    {
      "cell_type": "code",
      "execution_count": 1,
      "metadata": {
        "id": "zLIbrhb69Eo7"
      },
      "outputs": [],
      "source": [
        "import pandas as pd\n",
        "import numpy as np"
      ]
    },
    {
      "cell_type": "code",
      "source": [
        "#reading the train and test data obtained from the CNN2 notebook\n",
        "X_train = pd.read_csv('/content/drive/MyDrive/AI for CS/Datasets/X_train.csv')\n",
        "y_train = pd.read_csv('/content/drive/MyDrive/AI for CS/Datasets/y_train.csv')\n",
        "X_test = pd.read_csv('/content/drive/MyDrive/AI for CS/Datasets/X_test.csv')\n",
        "y_test = pd.read_csv('/content/drive/MyDrive/AI for CS/Datasets/y_test.csv')\n",
        "X_val = pd.read_csv('/content/drive/MyDrive/AI for CS/Datasets/X_val.csv')\n",
        "y_val = pd.read_csv('/content/drive/MyDrive/AI for CS/Datasets/y_val.csv')"
      ],
      "metadata": {
        "id": "yD364WDnmWHf"
      },
      "execution_count": 2,
      "outputs": []
    },
    {
      "cell_type": "code",
      "source": [
        "print(X_train.shape[0])"
      ],
      "metadata": {
        "colab": {
          "base_uri": "https://localhost:8080/"
        },
        "id": "Z2zs9MQQnos6",
        "outputId": "891c8c7e-931f-4f85-a30e-bafc6ca368b0"
      },
      "execution_count": 12,
      "outputs": [
        {
          "output_type": "stream",
          "name": "stdout",
          "text": [
            "499999\n"
          ]
        }
      ]
    },
    {
      "cell_type": "code",
      "source": [
        "#scaling the data\n",
        "from sklearn.preprocessing import MinMaxScaler\n",
        "\n",
        "scaler = MinMaxScaler()\n",
        "scaler.fit(X_train)\n",
        "X_train = scaler.transform(X_train)"
      ],
      "metadata": {
        "id": "tG6IWJGo3s5V"
      },
      "execution_count": null,
      "outputs": []
    },
    {
      "cell_type": "code",
      "source": [
        "#adding the 3d dimension to the features to be in the format (samples, timestep, features)\n",
        "def transform_data(X):\n",
        "  new_X = []\n",
        "  for i in range(X.shape[0]):\n",
        "    new_X.append(X.iloc[i].values.reshape(1,81))\n",
        "  return np.array(new_X)"
      ],
      "metadata": {
        "id": "72X907Am4tL8"
      },
      "execution_count": 17,
      "outputs": []
    },
    {
      "cell_type": "code",
      "source": [
        "#adding a dimension to the labels \n",
        "def transform_label(y):\n",
        "  new_y = []\n",
        "  for i in range(y.shape[0]):\n",
        "    new_y.append(y.iloc[i].values.reshape(1,11))\n",
        "  return np.array(new_y)"
      ],
      "metadata": {
        "id": "RymzBbSwa-ca"
      },
      "execution_count": 20,
      "outputs": []
    },
    {
      "cell_type": "code",
      "source": [
        "X_tr = transform_data(X_train)\n",
        "X_val = transform_data(X_val)\n",
        "X_test = transform_data(X_test)"
      ],
      "metadata": {
        "id": "DMyXvzNqZnbI"
      },
      "execution_count": 18,
      "outputs": []
    },
    {
      "cell_type": "code",
      "source": [
        "y_tr = transform_label(y_train)\n",
        "y_val = transform_label(y_val)\n",
        "y_te = transform_label(y_test)"
      ],
      "metadata": {
        "id": "NJx2y3cJa3xz"
      },
      "execution_count": 21,
      "outputs": []
    },
    {
      "cell_type": "code",
      "source": [
        "from keras.models import Sequential\n",
        "from keras.layers import Dense, LSTM\n",
        "from tensorflow.keras.optimizers import RMSprop"
      ],
      "metadata": {
        "id": "UnytiXHWnD23"
      },
      "execution_count": 22,
      "outputs": []
    },
    {
      "cell_type": "code",
      "source": [
        "# Create a Sequential model: \n",
        "lstm_model = Sequential()\n",
        "\n",
        "# Add layers with the add() method: \n",
        "lstm_model.add(LSTM(64, input_shape= (1,81),return_sequences=True))\n",
        "lstm_model.add(Dense(11, activation= 'softmax')) "
      ],
      "metadata": {
        "id": "v51RBYCEnEoL"
      },
      "execution_count": 23,
      "outputs": []
    },
    {
      "cell_type": "code",
      "source": [
        "#creating optimizer for the model rmsprop\n",
        "rmsprop = RMSprop(learning_rate= 0.0005)\n",
        "lstm_model.compile(rmsprop, loss= 'categorical_crossentropy', metrics=[\"accuracy\"])"
      ],
      "metadata": {
        "id": "nVNfk9d8PaL2"
      },
      "execution_count": 24,
      "outputs": []
    },
    {
      "cell_type": "code",
      "source": [
        "lstm_model.summary()"
      ],
      "metadata": {
        "colab": {
          "base_uri": "https://localhost:8080/"
        },
        "id": "GFa7a3-pVpKg",
        "outputId": "62018b08-c113-44b0-c5a7-ae8ed22e1dfb"
      },
      "execution_count": 25,
      "outputs": [
        {
          "output_type": "stream",
          "name": "stdout",
          "text": [
            "Model: \"sequential\"\n",
            "_________________________________________________________________\n",
            " Layer (type)                Output Shape              Param #   \n",
            "=================================================================\n",
            " lstm (LSTM)                 (None, 1, 64)             37376     \n",
            "                                                                 \n",
            " dense (Dense)               (None, 1, 11)             715       \n",
            "                                                                 \n",
            "=================================================================\n",
            "Total params: 38,091\n",
            "Trainable params: 38,091\n",
            "Non-trainable params: 0\n",
            "_________________________________________________________________\n"
          ]
        }
      ]
    },
    {
      "cell_type": "code",
      "source": [
        "#training the model\n",
        "history = lstm_model.fit(X_tr, y_tr, batch_size= 255, epochs= 150, validation_data= (X_val, y_val))"
      ],
      "metadata": {
        "colab": {
          "base_uri": "https://localhost:8080/"
        },
        "id": "bWMRryEJpgEz",
        "outputId": "c9577c93-3212-4dac-a4b8-b6bb6a09ffc8"
      },
      "execution_count": 26,
      "outputs": [
        {
          "output_type": "stream",
          "name": "stdout",
          "text": [
            "Epoch 1/150\n",
            "1961/1961 [==============================] - 19s 7ms/step - loss: 0.8569 - accuracy: 0.6371 - val_loss: 0.6640 - val_accuracy: 0.6702\n",
            "Epoch 2/150\n",
            "1961/1961 [==============================] - 13s 7ms/step - loss: 0.6524 - accuracy: 0.6742 - val_loss: 0.6360 - val_accuracy: 0.6792\n",
            "Epoch 3/150\n",
            "1961/1961 [==============================] - 13s 6ms/step - loss: 0.6380 - accuracy: 0.6781 - val_loss: 0.6283 - val_accuracy: 0.6830\n",
            "Epoch 4/150\n",
            "1961/1961 [==============================] - 13s 7ms/step - loss: 0.6322 - accuracy: 0.6793 - val_loss: 0.6258 - val_accuracy: 0.6819\n",
            "Epoch 5/150\n",
            "1961/1961 [==============================] - 13s 7ms/step - loss: 0.6283 - accuracy: 0.6806 - val_loss: 0.6505 - val_accuracy: 0.6707\n",
            "Epoch 6/150\n",
            "1961/1961 [==============================] - 13s 7ms/step - loss: 0.6253 - accuracy: 0.6827 - val_loss: 0.6213 - val_accuracy: 0.6836\n",
            "Epoch 7/150\n",
            "1961/1961 [==============================] - 12s 6ms/step - loss: 0.6241 - accuracy: 0.6843 - val_loss: 0.6193 - val_accuracy: 0.6826\n",
            "Epoch 8/150\n",
            "1961/1961 [==============================] - 13s 6ms/step - loss: 0.6222 - accuracy: 0.6837 - val_loss: 0.6144 - val_accuracy: 0.6908\n",
            "Epoch 9/150\n",
            "1961/1961 [==============================] - 13s 7ms/step - loss: 0.6209 - accuracy: 0.6843 - val_loss: 0.6259 - val_accuracy: 0.6827\n",
            "Epoch 10/150\n",
            "1961/1961 [==============================] - 13s 7ms/step - loss: 0.6207 - accuracy: 0.6841 - val_loss: 0.6281 - val_accuracy: 0.6799\n",
            "Epoch 11/150\n",
            "1961/1961 [==============================] - 13s 7ms/step - loss: 0.6197 - accuracy: 0.6843 - val_loss: 0.6155 - val_accuracy: 0.6891\n",
            "Epoch 12/150\n",
            "1961/1961 [==============================] - 13s 7ms/step - loss: 0.6194 - accuracy: 0.6851 - val_loss: 0.6190 - val_accuracy: 0.6843\n",
            "Epoch 13/150\n",
            "1961/1961 [==============================] - 13s 6ms/step - loss: 0.6183 - accuracy: 0.6862 - val_loss: 0.6342 - val_accuracy: 0.6826\n",
            "Epoch 14/150\n",
            "1961/1961 [==============================] - 13s 7ms/step - loss: 0.6171 - accuracy: 0.6862 - val_loss: 0.6138 - val_accuracy: 0.6839\n",
            "Epoch 15/150\n",
            "1961/1961 [==============================] - 13s 6ms/step - loss: 0.6164 - accuracy: 0.6868 - val_loss: 0.6194 - val_accuracy: 0.6865\n",
            "Epoch 16/150\n",
            "1961/1961 [==============================] - 13s 7ms/step - loss: 0.6162 - accuracy: 0.6865 - val_loss: 0.6110 - val_accuracy: 0.6877\n",
            "Epoch 17/150\n",
            "1961/1961 [==============================] - 13s 7ms/step - loss: 0.6159 - accuracy: 0.6866 - val_loss: 0.6157 - val_accuracy: 0.6902\n",
            "Epoch 18/150\n",
            "1961/1961 [==============================] - 13s 6ms/step - loss: 0.6149 - accuracy: 0.6876 - val_loss: 0.6172 - val_accuracy: 0.6855\n",
            "Epoch 19/150\n",
            "1961/1961 [==============================] - 13s 6ms/step - loss: 0.6149 - accuracy: 0.6872 - val_loss: 0.6119 - val_accuracy: 0.6926\n",
            "Epoch 20/150\n",
            "1961/1961 [==============================] - 13s 6ms/step - loss: 0.6143 - accuracy: 0.6875 - val_loss: 0.6103 - val_accuracy: 0.6956\n",
            "Epoch 21/150\n",
            "1961/1961 [==============================] - 13s 6ms/step - loss: 0.6149 - accuracy: 0.6883 - val_loss: 0.6103 - val_accuracy: 0.6876\n",
            "Epoch 22/150\n",
            "1961/1961 [==============================] - 13s 7ms/step - loss: 0.6138 - accuracy: 0.6886 - val_loss: 0.6084 - val_accuracy: 0.6977\n",
            "Epoch 23/150\n",
            "1961/1961 [==============================] - 13s 6ms/step - loss: 0.6140 - accuracy: 0.6886 - val_loss: 0.6134 - val_accuracy: 0.6864\n",
            "Epoch 24/150\n",
            "1961/1961 [==============================] - 12s 6ms/step - loss: 0.6134 - accuracy: 0.6892 - val_loss: 0.6132 - val_accuracy: 0.6937\n",
            "Epoch 25/150\n",
            "1961/1961 [==============================] - 12s 6ms/step - loss: 0.6148 - accuracy: 0.6897 - val_loss: 0.6135 - val_accuracy: 0.6892\n",
            "Epoch 26/150\n",
            "1961/1961 [==============================] - 12s 6ms/step - loss: 0.6146 - accuracy: 0.6892 - val_loss: 0.6181 - val_accuracy: 0.6839\n",
            "Epoch 27/150\n",
            "1961/1961 [==============================] - 12s 6ms/step - loss: 0.6140 - accuracy: 0.6901 - val_loss: 0.6098 - val_accuracy: 0.6952\n",
            "Epoch 28/150\n",
            "1961/1961 [==============================] - 12s 6ms/step - loss: 0.6137 - accuracy: 0.6899 - val_loss: 0.6136 - val_accuracy: 0.6957\n",
            "Epoch 29/150\n",
            "1961/1961 [==============================] - 12s 6ms/step - loss: 0.6135 - accuracy: 0.6910 - val_loss: 0.6121 - val_accuracy: 0.6911\n",
            "Epoch 30/150\n",
            "1961/1961 [==============================] - 12s 6ms/step - loss: 0.6124 - accuracy: 0.6908 - val_loss: 0.6149 - val_accuracy: 0.6943\n",
            "Epoch 31/150\n",
            "1961/1961 [==============================] - 12s 6ms/step - loss: 0.6129 - accuracy: 0.6908 - val_loss: 0.6273 - val_accuracy: 0.6873\n",
            "Epoch 32/150\n",
            "1961/1961 [==============================] - 12s 6ms/step - loss: 0.6119 - accuracy: 0.6912 - val_loss: 0.6089 - val_accuracy: 0.6950\n",
            "Epoch 33/150\n",
            "1961/1961 [==============================] - 13s 7ms/step - loss: 0.6112 - accuracy: 0.6920 - val_loss: 0.6108 - val_accuracy: 0.6949\n",
            "Epoch 34/150\n",
            "1961/1961 [==============================] - 13s 7ms/step - loss: 0.6108 - accuracy: 0.6916 - val_loss: 0.6100 - val_accuracy: 0.6859\n",
            "Epoch 35/150\n",
            "1961/1961 [==============================] - 13s 7ms/step - loss: 0.6111 - accuracy: 0.6916 - val_loss: 0.6176 - val_accuracy: 0.6894\n",
            "Epoch 36/150\n",
            "1961/1961 [==============================] - 13s 7ms/step - loss: 0.6106 - accuracy: 0.6920 - val_loss: 0.6089 - val_accuracy: 0.6927\n",
            "Epoch 37/150\n",
            "1961/1961 [==============================] - 13s 6ms/step - loss: 0.6114 - accuracy: 0.6916 - val_loss: 0.6137 - val_accuracy: 0.6927\n",
            "Epoch 38/150\n",
            "1961/1961 [==============================] - 13s 6ms/step - loss: 0.6106 - accuracy: 0.6916 - val_loss: 0.6115 - val_accuracy: 0.6871\n",
            "Epoch 39/150\n",
            "1961/1961 [==============================] - 12s 6ms/step - loss: 0.6104 - accuracy: 0.6916 - val_loss: 0.6094 - val_accuracy: 0.6967\n",
            "Epoch 40/150\n",
            "1961/1961 [==============================] - 13s 6ms/step - loss: 0.6103 - accuracy: 0.6928 - val_loss: 0.6104 - val_accuracy: 0.6932\n",
            "Epoch 41/150\n",
            "1961/1961 [==============================] - 13s 6ms/step - loss: 0.6100 - accuracy: 0.6924 - val_loss: 0.6043 - val_accuracy: 0.6978\n",
            "Epoch 42/150\n",
            "1961/1961 [==============================] - 12s 6ms/step - loss: 0.6102 - accuracy: 0.6933 - val_loss: 0.6060 - val_accuracy: 0.6973\n",
            "Epoch 43/150\n",
            "1961/1961 [==============================] - 12s 6ms/step - loss: 0.6092 - accuracy: 0.6929 - val_loss: 0.6106 - val_accuracy: 0.6975\n",
            "Epoch 44/150\n",
            "1961/1961 [==============================] - 13s 6ms/step - loss: 0.6093 - accuracy: 0.6926 - val_loss: 0.6142 - val_accuracy: 0.6947\n",
            "Epoch 45/150\n",
            "1961/1961 [==============================] - 12s 6ms/step - loss: 0.6099 - accuracy: 0.6930 - val_loss: 0.6087 - val_accuracy: 0.6969\n",
            "Epoch 46/150\n",
            "1961/1961 [==============================] - 12s 6ms/step - loss: 0.6093 - accuracy: 0.6927 - val_loss: 0.6110 - val_accuracy: 0.6904\n",
            "Epoch 47/150\n",
            "1961/1961 [==============================] - 12s 6ms/step - loss: 0.6091 - accuracy: 0.6930 - val_loss: 0.6078 - val_accuracy: 0.6949\n",
            "Epoch 48/150\n",
            "1961/1961 [==============================] - 12s 6ms/step - loss: 0.6088 - accuracy: 0.6937 - val_loss: 0.6046 - val_accuracy: 0.6950\n",
            "Epoch 49/150\n",
            "1961/1961 [==============================] - 13s 6ms/step - loss: 0.6083 - accuracy: 0.6937 - val_loss: 0.6047 - val_accuracy: 0.6980\n",
            "Epoch 50/150\n",
            "1961/1961 [==============================] - 13s 6ms/step - loss: 0.6085 - accuracy: 0.6940 - val_loss: 0.6199 - val_accuracy: 0.6854\n",
            "Epoch 51/150\n",
            "1961/1961 [==============================] - 13s 7ms/step - loss: 0.6087 - accuracy: 0.6944 - val_loss: 0.6101 - val_accuracy: 0.6947\n",
            "Epoch 52/150\n",
            "1961/1961 [==============================] - 13s 6ms/step - loss: 0.6090 - accuracy: 0.6939 - val_loss: 0.6081 - val_accuracy: 0.6973\n",
            "Epoch 53/150\n",
            "1961/1961 [==============================] - 13s 6ms/step - loss: 0.6080 - accuracy: 0.6940 - val_loss: 0.6068 - val_accuracy: 0.6987\n",
            "Epoch 54/150\n",
            "1961/1961 [==============================] - 12s 6ms/step - loss: 0.6103 - accuracy: 0.6941 - val_loss: 0.6101 - val_accuracy: 0.6879\n",
            "Epoch 55/150\n",
            "1961/1961 [==============================] - 13s 6ms/step - loss: 0.6086 - accuracy: 0.6948 - val_loss: 0.6054 - val_accuracy: 0.6938\n",
            "Epoch 56/150\n",
            "1961/1961 [==============================] - 13s 6ms/step - loss: 0.6074 - accuracy: 0.6943 - val_loss: 0.6069 - val_accuracy: 0.6881\n",
            "Epoch 57/150\n",
            "1961/1961 [==============================] - 13s 6ms/step - loss: 0.6076 - accuracy: 0.6944 - val_loss: 0.6021 - val_accuracy: 0.6974\n",
            "Epoch 58/150\n",
            "1961/1961 [==============================] - 12s 6ms/step - loss: 0.6078 - accuracy: 0.6942 - val_loss: 0.6186 - val_accuracy: 0.6852\n",
            "Epoch 59/150\n",
            "1961/1961 [==============================] - 13s 6ms/step - loss: 0.6080 - accuracy: 0.6941 - val_loss: 0.6077 - val_accuracy: 0.6979\n",
            "Epoch 60/150\n",
            "1961/1961 [==============================] - 13s 6ms/step - loss: 0.6077 - accuracy: 0.6943 - val_loss: 0.6113 - val_accuracy: 0.6954\n",
            "Epoch 61/150\n",
            "1961/1961 [==============================] - 13s 7ms/step - loss: 0.6079 - accuracy: 0.6943 - val_loss: 0.6048 - val_accuracy: 0.6960\n",
            "Epoch 62/150\n",
            "1961/1961 [==============================] - 13s 6ms/step - loss: 0.6071 - accuracy: 0.6950 - val_loss: 0.6048 - val_accuracy: 0.6936\n",
            "Epoch 63/150\n",
            "1961/1961 [==============================] - 13s 6ms/step - loss: 0.6069 - accuracy: 0.6950 - val_loss: 0.6085 - val_accuracy: 0.6867\n",
            "Epoch 64/150\n",
            "1961/1961 [==============================] - 13s 6ms/step - loss: 0.6075 - accuracy: 0.6944 - val_loss: 0.6057 - val_accuracy: 0.6983\n",
            "Epoch 65/150\n",
            "1961/1961 [==============================] - 13s 6ms/step - loss: 0.6068 - accuracy: 0.6947 - val_loss: 0.6073 - val_accuracy: 0.6974\n",
            "Epoch 66/150\n",
            "1961/1961 [==============================] - 12s 6ms/step - loss: 0.6068 - accuracy: 0.6954 - val_loss: 0.6033 - val_accuracy: 0.6980\n",
            "Epoch 67/150\n",
            "1961/1961 [==============================] - 12s 6ms/step - loss: 0.6067 - accuracy: 0.6949 - val_loss: 0.6043 - val_accuracy: 0.6980\n",
            "Epoch 68/150\n",
            "1961/1961 [==============================] - 13s 6ms/step - loss: 0.6071 - accuracy: 0.6954 - val_loss: 0.6110 - val_accuracy: 0.6940\n",
            "Epoch 69/150\n",
            "1961/1961 [==============================] - 13s 6ms/step - loss: 0.6070 - accuracy: 0.6950 - val_loss: 0.6073 - val_accuracy: 0.6935\n",
            "Epoch 70/150\n",
            "1961/1961 [==============================] - 12s 6ms/step - loss: 0.6068 - accuracy: 0.6948 - val_loss: 0.6027 - val_accuracy: 0.7003\n",
            "Epoch 71/150\n",
            "1961/1961 [==============================] - 13s 6ms/step - loss: 0.6070 - accuracy: 0.6947 - val_loss: 0.6083 - val_accuracy: 0.6878\n",
            "Epoch 72/150\n",
            "1961/1961 [==============================] - 13s 6ms/step - loss: 0.6070 - accuracy: 0.6951 - val_loss: 0.6036 - val_accuracy: 0.6998\n",
            "Epoch 73/150\n",
            "1961/1961 [==============================] - 13s 7ms/step - loss: 0.6071 - accuracy: 0.6947 - val_loss: 0.6060 - val_accuracy: 0.6923\n",
            "Epoch 74/150\n",
            "1961/1961 [==============================] - 13s 7ms/step - loss: 0.6068 - accuracy: 0.6950 - val_loss: 0.6050 - val_accuracy: 0.6982\n",
            "Epoch 75/150\n",
            "1961/1961 [==============================] - 13s 6ms/step - loss: 0.6069 - accuracy: 0.6960 - val_loss: 0.6048 - val_accuracy: 0.6882\n",
            "Epoch 76/150\n",
            "1961/1961 [==============================] - 13s 6ms/step - loss: 0.6066 - accuracy: 0.6951 - val_loss: 0.6051 - val_accuracy: 0.6979\n",
            "Epoch 77/150\n",
            "1961/1961 [==============================] - 13s 6ms/step - loss: 0.6065 - accuracy: 0.6957 - val_loss: 0.6070 - val_accuracy: 0.6942\n",
            "Epoch 78/150\n",
            "1961/1961 [==============================] - 13s 7ms/step - loss: 0.6067 - accuracy: 0.6950 - val_loss: 0.6123 - val_accuracy: 0.6961\n",
            "Epoch 79/150\n",
            "1961/1961 [==============================] - 12s 6ms/step - loss: 0.6073 - accuracy: 0.6950 - val_loss: 0.6023 - val_accuracy: 0.6984\n",
            "Epoch 80/150\n",
            "1961/1961 [==============================] - 12s 6ms/step - loss: 0.6070 - accuracy: 0.6953 - val_loss: 0.6126 - val_accuracy: 0.6896\n",
            "Epoch 81/150\n",
            "1961/1961 [==============================] - 13s 7ms/step - loss: 0.6071 - accuracy: 0.6959 - val_loss: 0.6093 - val_accuracy: 0.6972\n",
            "Epoch 82/150\n",
            "1961/1961 [==============================] - 12s 6ms/step - loss: 0.6076 - accuracy: 0.6954 - val_loss: 0.6042 - val_accuracy: 0.6994\n",
            "Epoch 83/150\n",
            "1961/1961 [==============================] - 12s 6ms/step - loss: 0.6085 - accuracy: 0.6957 - val_loss: 0.6055 - val_accuracy: 0.6977\n",
            "Epoch 84/150\n",
            "1961/1961 [==============================] - 13s 6ms/step - loss: 0.6081 - accuracy: 0.6961 - val_loss: 0.6035 - val_accuracy: 0.6970\n",
            "Epoch 85/150\n",
            "1961/1961 [==============================] - 13s 6ms/step - loss: 0.6080 - accuracy: 0.6959 - val_loss: 0.6161 - val_accuracy: 0.6967\n",
            "Epoch 86/150\n",
            "1961/1961 [==============================] - 13s 7ms/step - loss: 0.6078 - accuracy: 0.6949 - val_loss: 0.6099 - val_accuracy: 0.6975\n",
            "Epoch 87/150\n",
            "1961/1961 [==============================] - 13s 6ms/step - loss: 0.6074 - accuracy: 0.6950 - val_loss: 0.6028 - val_accuracy: 0.6972\n",
            "Epoch 88/150\n",
            "1961/1961 [==============================] - 12s 6ms/step - loss: 0.6067 - accuracy: 0.6962 - val_loss: 0.6032 - val_accuracy: 0.6991\n",
            "Epoch 89/150\n",
            "1961/1961 [==============================] - 13s 6ms/step - loss: 0.6071 - accuracy: 0.6957 - val_loss: 0.6010 - val_accuracy: 0.7009\n",
            "Epoch 90/150\n",
            "1961/1961 [==============================] - 13s 6ms/step - loss: 0.6073 - accuracy: 0.6953 - val_loss: 0.6006 - val_accuracy: 0.7007\n",
            "Epoch 91/150\n",
            "1961/1961 [==============================] - 12s 6ms/step - loss: 0.6067 - accuracy: 0.6959 - val_loss: 0.6054 - val_accuracy: 0.6976\n",
            "Epoch 92/150\n",
            "1961/1961 [==============================] - 12s 6ms/step - loss: 0.6071 - accuracy: 0.6953 - val_loss: 0.6010 - val_accuracy: 0.6959\n",
            "Epoch 93/150\n",
            "1961/1961 [==============================] - 13s 6ms/step - loss: 0.6058 - accuracy: 0.6961 - val_loss: 0.6018 - val_accuracy: 0.6990\n",
            "Epoch 94/150\n",
            "1961/1961 [==============================] - 13s 7ms/step - loss: 0.6058 - accuracy: 0.6960 - val_loss: 0.6025 - val_accuracy: 0.7001\n",
            "Epoch 95/150\n",
            "1961/1961 [==============================] - 13s 6ms/step - loss: 0.6065 - accuracy: 0.6961 - val_loss: 0.6107 - val_accuracy: 0.6899\n",
            "Epoch 96/150\n",
            "1961/1961 [==============================] - 13s 6ms/step - loss: 0.6070 - accuracy: 0.6954 - val_loss: 0.6084 - val_accuracy: 0.6980\n",
            "Epoch 97/150\n",
            "1961/1961 [==============================] - 13s 7ms/step - loss: 0.6064 - accuracy: 0.6961 - val_loss: 0.6059 - val_accuracy: 0.6923\n",
            "Epoch 98/150\n",
            "1961/1961 [==============================] - 13s 7ms/step - loss: 0.6058 - accuracy: 0.6958 - val_loss: 0.6042 - val_accuracy: 0.6975\n",
            "Epoch 99/150\n",
            "1961/1961 [==============================] - 13s 6ms/step - loss: 0.6064 - accuracy: 0.6955 - val_loss: 0.6058 - val_accuracy: 0.7006\n",
            "Epoch 100/150\n",
            "1961/1961 [==============================] - 13s 6ms/step - loss: 0.6063 - accuracy: 0.6965 - val_loss: 0.6019 - val_accuracy: 0.6990\n",
            "Epoch 101/150\n",
            "1961/1961 [==============================] - 13s 7ms/step - loss: 0.6056 - accuracy: 0.6961 - val_loss: 0.6005 - val_accuracy: 0.6983\n",
            "Epoch 102/150\n",
            "1961/1961 [==============================] - 13s 6ms/step - loss: 0.6053 - accuracy: 0.6962 - val_loss: 0.6017 - val_accuracy: 0.7008\n",
            "Epoch 103/150\n",
            "1961/1961 [==============================] - 12s 6ms/step - loss: 0.6053 - accuracy: 0.6959 - val_loss: 0.6125 - val_accuracy: 0.6995\n",
            "Epoch 104/150\n",
            "1961/1961 [==============================] - 12s 6ms/step - loss: 0.6052 - accuracy: 0.6960 - val_loss: 0.6051 - val_accuracy: 0.6947\n",
            "Epoch 105/150\n",
            "1961/1961 [==============================] - 12s 6ms/step - loss: 0.6050 - accuracy: 0.6971 - val_loss: 0.6014 - val_accuracy: 0.6967\n",
            "Epoch 106/150\n",
            "1961/1961 [==============================] - 13s 6ms/step - loss: 0.6049 - accuracy: 0.6963 - val_loss: 0.6050 - val_accuracy: 0.6981\n",
            "Epoch 107/150\n",
            "1961/1961 [==============================] - 12s 6ms/step - loss: 0.6055 - accuracy: 0.6968 - val_loss: 0.6003 - val_accuracy: 0.7015\n",
            "Epoch 108/150\n",
            "1961/1961 [==============================] - 13s 6ms/step - loss: 0.6059 - accuracy: 0.6960 - val_loss: 0.6029 - val_accuracy: 0.6948\n",
            "Epoch 109/150\n",
            "1961/1961 [==============================] - 13s 7ms/step - loss: 0.6056 - accuracy: 0.6964 - val_loss: 0.6054 - val_accuracy: 0.7009\n",
            "Epoch 110/150\n",
            "1961/1961 [==============================] - 13s 7ms/step - loss: 0.6059 - accuracy: 0.6968 - val_loss: 0.6043 - val_accuracy: 0.6938\n",
            "Epoch 111/150\n",
            "1961/1961 [==============================] - 12s 6ms/step - loss: 0.6054 - accuracy: 0.6966 - val_loss: 0.5994 - val_accuracy: 0.6994\n",
            "Epoch 112/150\n",
            "1961/1961 [==============================] - 12s 6ms/step - loss: 0.6054 - accuracy: 0.6966 - val_loss: 0.6066 - val_accuracy: 0.6946\n",
            "Epoch 113/150\n",
            "1961/1961 [==============================] - 12s 6ms/step - loss: 0.6059 - accuracy: 0.6962 - val_loss: 0.6035 - val_accuracy: 0.6980\n",
            "Epoch 114/150\n",
            "1961/1961 [==============================] - 13s 7ms/step - loss: 0.6054 - accuracy: 0.6959 - val_loss: 0.6047 - val_accuracy: 0.6985\n",
            "Epoch 115/150\n",
            "1961/1961 [==============================] - 13s 6ms/step - loss: 0.6057 - accuracy: 0.6964 - val_loss: 0.6017 - val_accuracy: 0.6932\n",
            "Epoch 116/150\n",
            "1961/1961 [==============================] - 13s 6ms/step - loss: 0.6060 - accuracy: 0.6964 - val_loss: 0.6134 - val_accuracy: 0.6922\n",
            "Epoch 117/150\n",
            "1961/1961 [==============================] - 13s 6ms/step - loss: 0.6058 - accuracy: 0.6960 - val_loss: 0.6032 - val_accuracy: 0.6982\n",
            "Epoch 118/150\n",
            "1961/1961 [==============================] - 13s 6ms/step - loss: 0.6052 - accuracy: 0.6962 - val_loss: 0.6052 - val_accuracy: 0.6983\n",
            "Epoch 119/150\n",
            "1961/1961 [==============================] - 13s 6ms/step - loss: 0.6061 - accuracy: 0.6963 - val_loss: 0.6016 - val_accuracy: 0.7011\n",
            "Epoch 120/150\n",
            "1961/1961 [==============================] - 13s 6ms/step - loss: 0.6060 - accuracy: 0.6958 - val_loss: 0.6023 - val_accuracy: 0.7009\n",
            "Epoch 121/150\n",
            "1961/1961 [==============================] - 12s 6ms/step - loss: 0.6060 - accuracy: 0.6962 - val_loss: 0.6022 - val_accuracy: 0.6977\n",
            "Epoch 122/150\n",
            "1961/1961 [==============================] - 13s 6ms/step - loss: 0.6058 - accuracy: 0.6961 - val_loss: 0.6107 - val_accuracy: 0.6922\n",
            "Epoch 123/150\n",
            "1961/1961 [==============================] - 13s 6ms/step - loss: 0.6065 - accuracy: 0.6959 - val_loss: 0.6029 - val_accuracy: 0.6989\n",
            "Epoch 124/150\n",
            "1961/1961 [==============================] - 13s 6ms/step - loss: 0.6060 - accuracy: 0.6962 - val_loss: 0.6068 - val_accuracy: 0.6987\n",
            "Epoch 125/150\n",
            "1961/1961 [==============================] - 13s 6ms/step - loss: 0.6060 - accuracy: 0.6960 - val_loss: 0.6081 - val_accuracy: 0.6890\n",
            "Epoch 126/150\n",
            "1961/1961 [==============================] - 12s 6ms/step - loss: 0.6058 - accuracy: 0.6963 - val_loss: 0.6103 - val_accuracy: 0.6943\n",
            "Epoch 127/150\n",
            "1961/1961 [==============================] - 12s 6ms/step - loss: 0.6060 - accuracy: 0.6957 - val_loss: 0.6027 - val_accuracy: 0.6971\n",
            "Epoch 128/150\n",
            "1961/1961 [==============================] - 12s 6ms/step - loss: 0.6052 - accuracy: 0.6963 - val_loss: 0.5998 - val_accuracy: 0.6986\n",
            "Epoch 129/150\n",
            "1961/1961 [==============================] - 12s 6ms/step - loss: 0.6051 - accuracy: 0.6967 - val_loss: 0.6022 - val_accuracy: 0.7000\n",
            "Epoch 130/150\n",
            "1961/1961 [==============================] - 13s 6ms/step - loss: 0.6052 - accuracy: 0.6963 - val_loss: 0.6099 - val_accuracy: 0.6911\n",
            "Epoch 131/150\n",
            "1961/1961 [==============================] - 12s 6ms/step - loss: 0.6054 - accuracy: 0.6964 - val_loss: 0.6075 - val_accuracy: 0.6943\n",
            "Epoch 132/150\n",
            "1961/1961 [==============================] - 13s 6ms/step - loss: 0.6051 - accuracy: 0.6968 - val_loss: 0.6002 - val_accuracy: 0.7011\n",
            "Epoch 133/150\n",
            "1961/1961 [==============================] - 12s 6ms/step - loss: 0.6054 - accuracy: 0.6965 - val_loss: 0.6074 - val_accuracy: 0.6959\n",
            "Epoch 134/150\n",
            "1961/1961 [==============================] - 12s 6ms/step - loss: 0.6052 - accuracy: 0.6959 - val_loss: 0.6304 - val_accuracy: 0.6826\n",
            "Epoch 135/150\n",
            "1961/1961 [==============================] - 13s 7ms/step - loss: 0.6060 - accuracy: 0.6961 - val_loss: 0.6167 - val_accuracy: 0.6944\n",
            "Epoch 136/150\n",
            "1961/1961 [==============================] - 12s 6ms/step - loss: 0.6046 - accuracy: 0.6966 - val_loss: 0.6028 - val_accuracy: 0.6977\n",
            "Epoch 137/150\n",
            "1961/1961 [==============================] - 12s 6ms/step - loss: 0.6050 - accuracy: 0.6963 - val_loss: 0.5991 - val_accuracy: 0.6992\n",
            "Epoch 138/150\n",
            "1961/1961 [==============================] - 13s 6ms/step - loss: 0.6049 - accuracy: 0.6963 - val_loss: 0.6125 - val_accuracy: 0.6976\n",
            "Epoch 139/150\n",
            "1961/1961 [==============================] - 13s 6ms/step - loss: 0.6043 - accuracy: 0.6963 - val_loss: 0.6018 - val_accuracy: 0.6981\n",
            "Epoch 140/150\n",
            "1961/1961 [==============================] - 13s 6ms/step - loss: 0.6045 - accuracy: 0.6962 - val_loss: 0.6024 - val_accuracy: 0.6998\n",
            "Epoch 141/150\n",
            "1961/1961 [==============================] - 12s 6ms/step - loss: 0.6050 - accuracy: 0.6969 - val_loss: 0.6416 - val_accuracy: 0.6849\n",
            "Epoch 142/150\n",
            "1961/1961 [==============================] - 12s 6ms/step - loss: 0.6054 - accuracy: 0.6959 - val_loss: 0.6123 - val_accuracy: 0.6927\n",
            "Epoch 143/150\n",
            "1961/1961 [==============================] - 12s 6ms/step - loss: 0.6049 - accuracy: 0.6962 - val_loss: 0.6040 - val_accuracy: 0.6969\n",
            "Epoch 144/150\n",
            "1961/1961 [==============================] - 12s 6ms/step - loss: 0.6051 - accuracy: 0.6970 - val_loss: 0.6019 - val_accuracy: 0.6997\n",
            "Epoch 145/150\n",
            "1961/1961 [==============================] - 12s 6ms/step - loss: 0.6050 - accuracy: 0.6965 - val_loss: 0.5998 - val_accuracy: 0.6995\n",
            "Epoch 146/150\n",
            "1961/1961 [==============================] - 12s 6ms/step - loss: 0.6048 - accuracy: 0.6964 - val_loss: 0.6075 - val_accuracy: 0.6859\n",
            "Epoch 147/150\n",
            "1961/1961 [==============================] - 13s 6ms/step - loss: 0.6048 - accuracy: 0.6968 - val_loss: 0.6068 - val_accuracy: 0.6923\n",
            "Epoch 148/150\n",
            "1961/1961 [==============================] - 13s 6ms/step - loss: 0.6044 - accuracy: 0.6965 - val_loss: 0.6002 - val_accuracy: 0.6994\n",
            "Epoch 149/150\n",
            "1961/1961 [==============================] - 12s 6ms/step - loss: 0.6053 - accuracy: 0.6963 - val_loss: 0.6063 - val_accuracy: 0.6967\n",
            "Epoch 150/150\n",
            "1961/1961 [==============================] - 13s 6ms/step - loss: 0.6041 - accuracy: 0.6969 - val_loss: 0.6025 - val_accuracy: 0.6967\n"
          ]
        }
      ]
    },
    {
      "cell_type": "code",
      "source": [
        "#saving the model\n",
        "lstm_model.save('lstm.h5')"
      ],
      "metadata": {
        "id": "tf1urcNHpbIs"
      },
      "execution_count": 27,
      "outputs": []
    },
    {
      "cell_type": "code",
      "source": [
        "#plotting the train validation accuracy curve\n",
        "import matplotlib.pyplot as plt\n",
        "plt.plot(history.history['accuracy'])\n",
        "plt.plot(history.history['val_accuracy'])\n",
        "plt.title('Model accuracy')\n",
        "plt.ylabel('accuracy')\n",
        "plt.xlabel('epoch')\n",
        "\n",
        "plt.legend(['train', 'test'], loc='upper left')"
      ],
      "metadata": {
        "colab": {
          "base_uri": "https://localhost:8080/",
          "height": 312
        },
        "id": "uUIv1gtb0qUf",
        "outputId": "0d0ae251-7cd1-4ff2-e317-a29457f54f0d"
      },
      "execution_count": 37,
      "outputs": [
        {
          "output_type": "execute_result",
          "data": {
            "text/plain": [
              "<matplotlib.legend.Legend at 0x7fbfa76e9150>"
            ]
          },
          "metadata": {},
          "execution_count": 37
        },
        {
          "output_type": "display_data",
          "data": {
            "image/png": "[encoded data removed]",
            "text/plain": [
              "<Figure size 432x288 with 1 Axes>"
            ]
          },
          "metadata": {
            "needs_background": "light"
          }
        }
      ]
    },
    {
      "cell_type": "code",
      "source": [
        "#plotting the train validation loss curve\n",
        "plt.plot(history.history['loss'])\n",
        "plt.plot(history.history['val_loss'])\n",
        "plt.title('Model Loss')\n",
        "plt.ylabel('accuracy')\n",
        "plt.xlabel('epoch')\n",
        "plt.legend(['train', 'test'], loc='upper left')"
      ],
      "metadata": {
        "colab": {
          "base_uri": "https://localhost:8080/",
          "height": 312
        },
        "id": "-iM3YI8H7vKm",
        "outputId": "178ff402-3c01-4235-ae3a-affb3b2b51bb"
      },
      "execution_count": 41,
      "outputs": [
        {
          "output_type": "execute_result",
          "data": {
            "text/plain": [
              "<matplotlib.legend.Legend at 0x7fbfa75a5310>"
            ]
          },
          "metadata": {},
          "execution_count": 41
        },
        {
          "output_type": "display_data",
          "data": {
            "image/png": "[encoded data removed]",
            "text/plain": [
              "<Figure size 432x288 with 1 Axes>"
            ]
          },
          "metadata": {
            "needs_background": "light"
          }
        }
      ]
    }
  ]
}