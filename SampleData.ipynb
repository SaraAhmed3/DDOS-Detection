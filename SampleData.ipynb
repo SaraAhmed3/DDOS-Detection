{
  "nbformat": 4,
  "nbformat_minor": 0,
  "metadata": {
    "colab": {
      "name": "SampleData.ipynb",
      "provenance": [],
      "machine_shape": "hm",
      "collapsed_sections": []
    },
    "kernelspec": {
      "name": "python3",
      "display_name": "Python 3"
    },
    "language_info": {
      "name": "python"
    },
    "accelerator": "GPU"
  },
  "cells": [
    {
      "cell_type": "code",
      "source": [
        "from google.colab import drive\n",
        "drive.mount('/content/drive')"
      ],
      "metadata": {
        "colab": {
          "base_uri": "https://localhost:8080/"
        },
        "id": "4RkUSSTCQ7dH",
        "outputId": "625aa218-4e6a-41d0-e2d1-d72aff83caa1"
      },
      "execution_count": null,
      "outputs": [
        {
          "output_type": "stream",
          "name": "stdout",
          "text": [
            "Drive already mounted at /content/drive; to attempt to forcibly remount, call drive.mount(\"/content/drive\", force_remount=True).\n"
          ]
        }
      ]
    },
    {
      "cell_type": "code",
      "execution_count": null,
      "metadata": {
        "id": "PSxpsQ1GHtIw"
      },
      "outputs": [],
      "source": [
        "import pandas as pd\n",
        "import numpy as np\n",
        "import matplotlib.pyplot as plt"
      ]
    },
    {
      "cell_type": "code",
      "source": [
        "DNS = pd.read_csv('/content/drive/MyDrive/CSV-01-12/01-12/DrDoS_DNS.csv')"
      ],
      "metadata": {
        "colab": {
          "base_uri": "https://localhost:8080/"
        },
        "id": "Bwk9kiIoIds8",
        "outputId": "acf77ab5-9e5a-42bb-a80b-eb9f6e65dbf0"
      },
      "execution_count": null,
      "outputs": [
        {
          "output_type": "stream",
          "name": "stderr",
          "text": [
            "/usr/local/lib/python3.7/dist-packages/IPython/core/interactiveshell.py:2718: DtypeWarning: Columns (85) have mixed types.Specify dtype option on import or set low_memory=False.\n",
            "  interactivity=interactivity, compiler=compiler, result=result)\n"
          ]
        }
      ]
    },
    {
      "cell_type": "code",
      "source": [
        "print(DNS.shape)"
      ],
      "metadata": {
        "colab": {
          "base_uri": "https://localhost:8080/"
        },
        "id": "tHeKGyaSJPHn",
        "outputId": "6c9ae7eb-4181-4f81-b1e7-1acc98d4b46b"
      },
      "execution_count": null,
      "outputs": [
        {
          "output_type": "stream",
          "name": "stdout",
          "text": [
            "(5074413, 88)\n"
          ]
        }
      ]
    },
    {
      "cell_type": "code",
      "source": [
        "DNS.columns = DNS.columns.str.replace(' ', '')\n",
        "DNS.replace([np.inf, -np.inf], np.nan, inplace=True)\n",
        "DNS = DNS.dropna()"
      ],
      "metadata": {
        "id": "1n6ha7B0Svs8"
      },
      "execution_count": null,
      "outputs": []
    },
    {
      "cell_type": "code",
      "source": [
        "DNS_b = DNS.loc[DNS['Label'] == 'BENIGN']\n",
        "DNS_attc = DNS.loc[DNS['Label'] == \"DrDoS_DNS\"]\n",
        "DNS_attc = DNS_attc.sample(n= 100000 - len(DNS_b))\n",
        "DNS = DNS_attc.append(DNS_b)"
      ],
      "metadata": {
        "id": "D74kDpH2pE4R"
      },
      "execution_count": null,
      "outputs": []
    },
    {
      "cell_type": "code",
      "source": [
        "print(DNS.shape)"
      ],
      "metadata": {
        "colab": {
          "base_uri": "https://localhost:8080/"
        },
        "id": "wepA0EC0HYFW",
        "outputId": "3b812b59-8e3c-499f-dbde-17253d84cbcb"
      },
      "execution_count": null,
      "outputs": [
        {
          "output_type": "stream",
          "name": "stdout",
          "text": [
            "(100000, 88)\n"
          ]
        }
      ]
    },
    {
      "cell_type": "code",
      "source": [
        "# DNS.to_csv('DNS_sample.csv')\n",
        "# !cp DNS_sample.csv \"drive/My Drive/SampleData/\""
      ],
      "metadata": {
        "id": "KbW-riW35zIf"
      },
      "execution_count": null,
      "outputs": []
    },
    {
      "cell_type": "code",
      "source": [
        "X_DNS = DNS.drop(labels= ['Label'], axis= 1)\n",
        "y_DNS = DNS.Label"
      ],
      "metadata": {
        "id": "ZO6nEIYaSaFD"
      },
      "execution_count": null,
      "outputs": []
    },
    {
      "cell_type": "code",
      "source": [
        "print(np.unique(y_DNS))"
      ],
      "metadata": {
        "colab": {
          "base_uri": "https://localhost:8080/"
        },
        "id": "j4tPrapCqV8S",
        "outputId": "1f241497-b3a6-4ec0-c1d1-271a7ec4cb2a"
      },
      "execution_count": null,
      "outputs": [
        {
          "output_type": "stream",
          "name": "stdout",
          "text": [
            "['BENIGN' 'DrDoS_DNS']\n"
          ]
        }
      ]
    },
    {
      "cell_type": "code",
      "source": [
        "#to display the frequency of each class \n",
        "f_1 = np.unique(y_DNS, return_counts= True)\n",
        "f_1 = pd.DataFrame(f_1)\n",
        "classes = ['BENIGN', 'DrDoS_DNS']"
      ],
      "metadata": {
        "id": "2x4HvglMSWHL"
      },
      "execution_count": null,
      "outputs": []
    },
    {
      "cell_type": "code",
      "source": [
        "cmap = plt.get_cmap(\"Paired\")\n",
        "color = cmap(np.arange(10)*1)\n",
        "plt.pie(f_1.iloc[1,:], colors= color, radius= 3, labels= classes)\n",
        "plt.legend()\n",
        "plt.show() "
      ],
      "metadata": {
        "colab": {
          "base_uri": "https://localhost:8080/",
          "height": 556
        },
        "id": "U5-8IxWPSKFc",
        "outputId": "39906a16-0ffb-4f13-d7ee-e7c8de496c06"
      },
      "execution_count": null,
      "outputs": [
        {
          "output_type": "display_data",
          "data": {
            "image/png": "[encoded data removed]",
            "text/plain": [
              "<Figure size 432x288 with 1 Axes>"
            ]
          },
          "metadata": {}
        }
      ]
    },
    {
      "cell_type": "code",
      "source": [
        "LDAP = pd.read_csv('/content/drive/MyDrive/CSV-01-12/01-12/DrDoS_LDAP.csv')"
      ],
      "metadata": {
        "colab": {
          "base_uri": "https://localhost:8080/"
        },
        "id": "8OvThD9NJW63",
        "outputId": "8edece88-389a-4cd1-ef42-6029a5baf12b"
      },
      "execution_count": null,
      "outputs": [
        {
          "output_type": "stream",
          "name": "stderr",
          "text": [
            "/usr/local/lib/python3.7/dist-packages/IPython/core/interactiveshell.py:2718: DtypeWarning: Columns (85) have mixed types.Specify dtype option on import or set low_memory=False.\n",
            "  interactivity=interactivity, compiler=compiler, result=result)\n"
          ]
        }
      ]
    },
    {
      "cell_type": "code",
      "source": [
        "LDAP.columns = LDAP.columns.str.replace(' ', '')\n",
        "LDAP.replace([np.inf, -np.inf], np.nan, inplace=True)\n",
        "LDAP = LDAP.dropna()"
      ],
      "metadata": {
        "id": "4SOJO9R3nDnA"
      },
      "execution_count": null,
      "outputs": []
    },
    {
      "cell_type": "code",
      "source": [
        "print(np.unique(LDAP.Label))"
      ],
      "metadata": {
        "colab": {
          "base_uri": "https://localhost:8080/"
        },
        "id": "Gyp4bQfZsIDZ",
        "outputId": "a8f49685-56dc-446f-c958-3a04129a0a2d"
      },
      "execution_count": null,
      "outputs": [
        {
          "output_type": "stream",
          "name": "stdout",
          "text": [
            "['BENIGN' 'DrDoS_LDAP']\n"
          ]
        }
      ]
    },
    {
      "cell_type": "code",
      "source": [
        "LDAP_b = LDAP.loc[LDAP['Label'] == 'BENIGN']\n",
        "LDAP_attc = LDAP.loc[LDAP['Label'] == \"DrDoS_LDAP\"]\n",
        "LDAP_attc = LDAP_attc.sample(n= 100000 - len(LDAP_b))\n",
        "LDAP = LDAP_attc.append(LDAP_b)"
      ],
      "metadata": {
        "id": "qtk8IVtasCS9"
      },
      "execution_count": null,
      "outputs": []
    },
    {
      "cell_type": "code",
      "source": [
        "print(LDAP.shape)"
      ],
      "metadata": {
        "colab": {
          "base_uri": "https://localhost:8080/"
        },
        "id": "1XuagG-XHfFE",
        "outputId": "be1d1fa7-3894-454a-9031-57b4967ed317"
      },
      "execution_count": null,
      "outputs": [
        {
          "output_type": "stream",
          "name": "stdout",
          "text": [
            "(100000, 88)\n"
          ]
        }
      ]
    },
    {
      "cell_type": "code",
      "source": [
        "LDAP.to_csv('LDAP_sample.csv')\n",
        "!cp LDAP_sample.csv \"drive/My Drive/\""
      ],
      "metadata": {
        "id": "qel93Kb55_Mv"
      },
      "execution_count": null,
      "outputs": []
    },
    {
      "cell_type": "code",
      "source": [
        "X_LDAP = LDAP.drop(labels= ['Label'], axis= 1)\n",
        "y_LDAP = LDAP.Label"
      ],
      "metadata": {
        "id": "9jEWIkD3m19W"
      },
      "execution_count": null,
      "outputs": []
    },
    {
      "cell_type": "code",
      "source": [
        "#to display the frequency of each class \n",
        "f_2 = np.unique(y_LDAP, return_counts= True)\n",
        "f_2 = pd.DataFrame(f_2)\n",
        "classes = ['BENIGN', 'DrDoS_LDAP']"
      ],
      "metadata": {
        "id": "QNrWVsnPm0Xw"
      },
      "execution_count": null,
      "outputs": []
    },
    {
      "cell_type": "code",
      "source": [
        "cmap = plt.get_cmap(\"Paired\")\n",
        "color = cmap(np.arange(10)*1)\n",
        "plt.pie(f_2.iloc[1,:], colors= color, radius= 3, labels= classes)\n",
        "plt.legend()\n",
        "plt.show() "
      ],
      "metadata": {
        "colab": {
          "base_uri": "https://localhost:8080/",
          "height": 555
        },
        "id": "vdiKhEMjs37a",
        "outputId": "fd543755-2df8-4c58-a739-56cd20caa0d4"
      },
      "execution_count": null,
      "outputs": [
        {
          "output_type": "display_data",
          "data": {
            "image/png": "[encoded data removed]",
            "text/plain": [
              "<Figure size 432x288 with 1 Axes>"
            ]
          },
          "metadata": {}
        }
      ]
    },
    {
      "cell_type": "code",
      "source": [
        "MSSQL = pd.read_csv('/content/drive/MyDrive/CSV-01-12/01-12/DrDoS_MSSQL.csv')"
      ],
      "metadata": {
        "colab": {
          "base_uri": "https://localhost:8080/"
        },
        "id": "-Pee844TJgiz",
        "outputId": "1ff02186-cb3a-4283-f988-7cb927d8e758"
      },
      "execution_count": null,
      "outputs": [
        {
          "output_type": "stream",
          "name": "stderr",
          "text": [
            "/usr/local/lib/python3.7/dist-packages/IPython/core/interactiveshell.py:2718: DtypeWarning: Columns (85) have mixed types.Specify dtype option on import or set low_memory=False.\n",
            "  interactivity=interactivity, compiler=compiler, result=result)\n"
          ]
        }
      ]
    },
    {
      "cell_type": "code",
      "source": [
        "MSSQL.columns = MSSQL.columns.str.replace(' ', '')\n",
        "MSSQL.replace([np.inf, -np.inf], np.nan, inplace=True)\n",
        "MSSQL = MSSQL.dropna()"
      ],
      "metadata": {
        "id": "i5gSZ8t1KZCe"
      },
      "execution_count": null,
      "outputs": []
    },
    {
      "cell_type": "code",
      "source": [
        "MSSQL_b = MSSQL.loc[MSSQL['Label'] == 'BENIGN']\n",
        "MSSQL_attc = MSSQL.loc[MSSQL['Label'] == \"DrDoS_MSSQL\"]\n",
        "MSSQL_attc = MSSQL_attc.sample(n= 100000 - len(MSSQL_b))\n",
        "MSSQL = MSSQL_attc.append(MSSQL_b)"
      ],
      "metadata": {
        "id": "1t27VlDrtHC6"
      },
      "execution_count": null,
      "outputs": []
    },
    {
      "cell_type": "code",
      "source": [
        "MSSQL.to_csv('MSSQL_sample.csv')\n",
        "!cp MSSQL_sample.csv \"drive/My Drive/\""
      ],
      "metadata": {
        "id": "2qShcUbN6Gcf"
      },
      "execution_count": null,
      "outputs": []
    },
    {
      "cell_type": "code",
      "source": [
        "X_MSSQL = MSSQL.drop(labels= ['Label'], axis= 1)\n",
        "y_MSSQL = MSSQL.Label"
      ],
      "metadata": {
        "id": "LwYNdXsBts-Y"
      },
      "execution_count": null,
      "outputs": []
    },
    {
      "cell_type": "code",
      "source": [
        "#to display the frequency of each class \n",
        "f_3 = np.unique(y_MSSQL, return_counts= True)\n",
        "f_3 = pd.DataFrame(f_3)\n",
        "classes = ['BENIGN', 'DrDoS_MSSQL']"
      ],
      "metadata": {
        "id": "IHm6JMxbtkXE"
      },
      "execution_count": null,
      "outputs": []
    },
    {
      "cell_type": "code",
      "source": [
        "cmap = plt.get_cmap(\"Paired\")\n",
        "color = cmap(np.arange(10)*1)\n",
        "plt.pie(f_3.iloc[1,:], colors= color, radius= 3, labels= classes)\n",
        "plt.legend()\n",
        "plt.show() "
      ],
      "metadata": {
        "colab": {
          "base_uri": "https://localhost:8080/",
          "height": 556
        },
        "id": "jq3W1Zfit8mh",
        "outputId": "fd01b18a-2414-4d91-b5e3-983f93175425"
      },
      "execution_count": null,
      "outputs": [
        {
          "output_type": "display_data",
          "data": {
            "image/png": "[encoded data removed]",
            "text/plain": [
              "<Figure size 432x288 with 1 Axes>"
            ]
          },
          "metadata": {}
        }
      ]
    },
    {
      "cell_type": "code",
      "source": [
        "NTP = pd.read_csv('/content/drive/MyDrive/CSV-01-12/01-12/DrDoS_NTP.csv')"
      ],
      "metadata": {
        "id": "boGpuf3mJllH",
        "colab": {
          "base_uri": "https://localhost:8080/"
        },
        "outputId": "931b83e5-5578-42ec-d4d6-94deda053078"
      },
      "execution_count": null,
      "outputs": [
        {
          "output_type": "stream",
          "name": "stderr",
          "text": [
            "/usr/local/lib/python3.7/dist-packages/IPython/core/interactiveshell.py:2718: DtypeWarning: Columns (85) have mixed types.Specify dtype option on import or set low_memory=False.\n",
            "  interactivity=interactivity, compiler=compiler, result=result)\n"
          ]
        }
      ]
    },
    {
      "cell_type": "code",
      "source": [
        "NTP.columns = NTP.columns.str.replace(' ', '')\n",
        "NTP.replace([np.inf, -np.inf], np.nan, inplace=True)\n",
        "NTP = NTP.dropna()"
      ],
      "metadata": {
        "id": "xCBC3pusuCyI"
      },
      "execution_count": null,
      "outputs": []
    },
    {
      "cell_type": "code",
      "source": [
        "print(NTP.shape)"
      ],
      "metadata": {
        "id": "aPmNGSyVKdL_",
        "colab": {
          "base_uri": "https://localhost:8080/"
        },
        "outputId": "11a0a49e-bd10-4749-f5d3-6adb9e95eeac"
      },
      "execution_count": null,
      "outputs": [
        {
          "output_type": "stream",
          "name": "stdout",
          "text": [
            "(1217007, 88)\n"
          ]
        }
      ]
    },
    {
      "cell_type": "code",
      "source": [
        "NTP_b = NTP.loc[NTP['Label'] == 'BENIGN']\n",
        "NTP_attc = NTP.loc[NTP['Label'] == \"DrDoS_NTP\"]\n",
        "NTP_attc = NTP_attc.sample(n= 100000 - len(NTP_b))\n",
        "NTP = NTP_attc.append(NTP_b)"
      ],
      "metadata": {
        "id": "_AMBJSFVuK5x"
      },
      "execution_count": null,
      "outputs": []
    },
    {
      "cell_type": "code",
      "source": [
        "NTP.to_csv('NTP_sample.csv')\n",
        "!cp NTP_sample.csv \"drive/My Drive/\""
      ],
      "metadata": {
        "id": "yBdZrPyF6OTV"
      },
      "execution_count": null,
      "outputs": []
    },
    {
      "cell_type": "code",
      "source": [
        "X_NTP = NTP.drop(labels= ['Label'], axis= 1)\n",
        "y_NTP = NTP.Label"
      ],
      "metadata": {
        "id": "xZG3wjgkuOXk"
      },
      "execution_count": null,
      "outputs": []
    },
    {
      "cell_type": "code",
      "source": [
        "#to display the frequency of each class \n",
        "f_4 = np.unique(y_NTP, return_counts= True)\n",
        "f_4 = pd.DataFrame(f_4)\n",
        "classes = ['BENIGN', 'DrDoS_NTP']"
      ],
      "metadata": {
        "id": "mkI-tJKduR1A"
      },
      "execution_count": null,
      "outputs": []
    },
    {
      "cell_type": "code",
      "source": [
        "cmap = plt.get_cmap(\"Paired\")\n",
        "color = cmap(np.arange(10)*1)\n",
        "plt.pie(f_4.iloc[1,:], colors= color, radius= 3, labels= classes)\n",
        "plt.legend()\n",
        "plt.show() "
      ],
      "metadata": {
        "colab": {
          "base_uri": "https://localhost:8080/",
          "height": 555
        },
        "id": "IvGMo5OIuVTz",
        "outputId": "831fea49-9555-4039-c16c-38f386317265"
      },
      "execution_count": null,
      "outputs": [
        {
          "output_type": "display_data",
          "data": {
            "image/png": "[encoded data removed]",
            "text/plain": [
              "<Figure size 432x288 with 1 Axes>"
            ]
          },
          "metadata": {}
        }
      ]
    },
    {
      "cell_type": "code",
      "source": [
        "NetBIOS = pd.read_csv('/content/drive/MyDrive/CSV-01-12/01-12/DrDoS_NetBIOS.csv')"
      ],
      "metadata": {
        "id": "QRIBoOa7JrB3",
        "colab": {
          "base_uri": "https://localhost:8080/"
        },
        "outputId": "7a34e001-e583-4389-f2a3-7d266dd578db"
      },
      "execution_count": null,
      "outputs": [
        {
          "output_type": "stream",
          "name": "stderr",
          "text": [
            "/usr/local/lib/python3.7/dist-packages/IPython/core/interactiveshell.py:2718: DtypeWarning: Columns (85) have mixed types.Specify dtype option on import or set low_memory=False.\n",
            "  interactivity=interactivity, compiler=compiler, result=result)\n"
          ]
        }
      ]
    },
    {
      "cell_type": "code",
      "source": [
        "NetBIOS.columns = NetBIOS.columns.str.replace(' ', '')\n",
        "NetBIOS.replace([np.inf, -np.inf], np.nan, inplace=True)\n",
        "NetBIOS = NetBIOS.dropna()"
      ],
      "metadata": {
        "id": "SiUnMJO3vHmT"
      },
      "execution_count": null,
      "outputs": []
    },
    {
      "cell_type": "code",
      "source": [
        "NetBIOS_b = NetBIOS.loc[NetBIOS['Label'] == 'BENIGN']\n",
        "NetBIOS_attc = NetBIOS.loc[NetBIOS['Label'] == \"DrDoS_NetBIOS\"]\n",
        "NetBIOS_attc = NetBIOS_attc.sample(n= 100000 - len(NetBIOS_b))\n",
        "NetBIOS = NetBIOS_attc.append(NetBIOS_b)"
      ],
      "metadata": {
        "id": "lkZtBIdLvKye"
      },
      "execution_count": null,
      "outputs": []
    },
    {
      "cell_type": "code",
      "source": [
        "NetBIOS.to_csv('NetBIOS_sample.csv')\n",
        "!cp NetBIOS_sample.csv \"drive/My Drive/\""
      ],
      "metadata": {
        "id": "xkXYTd056W8d"
      },
      "execution_count": null,
      "outputs": []
    },
    {
      "cell_type": "code",
      "source": [
        "X_NetBIOS = new_NetBIOS.drop(labels= ['Label'], axis= 1)\n",
        "y_NetBIOS = new_NetBIOS.Label"
      ],
      "metadata": {
        "id": "Yv69kV_EvOFY"
      },
      "execution_count": null,
      "outputs": []
    },
    {
      "cell_type": "code",
      "source": [
        "#to display the frequency of each class \n",
        "f_5 = np.unique(y_NetBIOS, return_counts= True)\n",
        "f_5 = pd.DataFrame(f_5)\n",
        "classes = ['BENIGN', 'DrDoS_NetBIOS']"
      ],
      "metadata": {
        "id": "yGsBUQt4vRdC"
      },
      "execution_count": null,
      "outputs": []
    },
    {
      "cell_type": "code",
      "source": [
        "cmap = plt.get_cmap(\"Paired\")\n",
        "color = cmap(np.arange(10)*1)\n",
        "plt.pie(f_5.iloc[1,:], colors= color, radius= 3, labels= classes)\n",
        "plt.legend()\n",
        "plt.show() "
      ],
      "metadata": {
        "colab": {
          "base_uri": "https://localhost:8080/",
          "height": 555
        },
        "id": "5ULJnxwvvT_Q",
        "outputId": "79e1ecfb-2cf8-4f24-a462-180bb6a1000f"
      },
      "execution_count": null,
      "outputs": [
        {
          "output_type": "display_data",
          "data": {
            "image/png": "[encoded data removed]",
            "text/plain": [
              "<Figure size 432x288 with 1 Axes>"
            ]
          },
          "metadata": {}
        }
      ]
    },
    {
      "cell_type": "code",
      "source": [
        "print(NetBIOS.shape)"
      ],
      "metadata": {
        "id": "0zoltpRtKhLh"
      },
      "execution_count": null,
      "outputs": []
    },
    {
      "cell_type": "code",
      "source": [
        "SNMP = pd.read_csv('/content/drive/MyDrive/CSV-01-12/01-12/DrDoS_SNMP.csv')"
      ],
      "metadata": {
        "id": "c39Q0gR2Jx3U",
        "colab": {
          "base_uri": "https://localhost:8080/"
        },
        "outputId": "24fdaedf-5138-482e-e6c1-e896beb2fe4b"
      },
      "execution_count": null,
      "outputs": [
        {
          "output_type": "stream",
          "name": "stderr",
          "text": [
            "/usr/local/lib/python3.7/dist-packages/IPython/core/interactiveshell.py:2718: DtypeWarning: Columns (85) have mixed types.Specify dtype option on import or set low_memory=False.\n",
            "  interactivity=interactivity, compiler=compiler, result=result)\n"
          ]
        }
      ]
    },
    {
      "cell_type": "code",
      "source": [
        "SNMP.columns = SNMP.columns.str.replace(' ', '')\n",
        "SNMP.replace([np.inf, -np.inf], np.nan, inplace=True)\n",
        "SNMP = SNMP.dropna()"
      ],
      "metadata": {
        "id": "QPtRKvIIwDix"
      },
      "execution_count": null,
      "outputs": []
    },
    {
      "cell_type": "code",
      "source": [
        "SNMP_b = SNMP.loc[SNMP['Label'] == 'BENIGN']\n",
        "SNMP_attc = SNMP.loc[SNMP['Label'] == \"DrDoS_SNMP\"]\n",
        "SNMP_attc = SNMP_attc.sample(n= 100000 - len(SNMP_b))\n",
        "SNMP = SNMP_attc.append(SNMP_b)"
      ],
      "metadata": {
        "id": "KBMYQsr6wJTA"
      },
      "execution_count": null,
      "outputs": []
    },
    {
      "cell_type": "code",
      "source": [
        "SNMP.to_csv('SNMP_sample.csv')\n",
        "!cp SNMP_sample.csv \"drive/My Drive/\""
      ],
      "metadata": {
        "id": "8yHufgqe6fhJ"
      },
      "execution_count": null,
      "outputs": []
    },
    {
      "cell_type": "code",
      "source": [
        "X_SNMP = new_SNMP.drop(labels= ['Label'], axis= 1)\n",
        "y_SNMP = new_SNMP.Label"
      ],
      "metadata": {
        "id": "yQyJuopRwfKL"
      },
      "execution_count": null,
      "outputs": []
    },
    {
      "cell_type": "code",
      "source": [
        "f_6 = np.unique(y_SNMP, return_counts= True)\n",
        "f_6 = pd.DataFrame(f_6)\n",
        "classes = ['BENIGN', 'DrDoS_SNMP']"
      ],
      "metadata": {
        "id": "GZ8mh-0nwi2x"
      },
      "execution_count": null,
      "outputs": []
    },
    {
      "cell_type": "code",
      "source": [
        "cmap = plt.get_cmap(\"Paired\")\n",
        "color = cmap(np.arange(10)*1)\n",
        "plt.pie(f_6.iloc[1,:], colors= color, radius= 3, labels= classes)\n",
        "plt.legend()\n",
        "plt.show() "
      ],
      "metadata": {
        "colab": {
          "base_uri": "https://localhost:8080/",
          "height": 555
        },
        "id": "1a9t7xHOwmAL",
        "outputId": "3c29efa3-7199-4df2-881a-8ffcc1e38051"
      },
      "execution_count": null,
      "outputs": [
        {
          "output_type": "display_data",
          "data": {
            "image/png": "[encoded data removed]",
            "text/plain": [
              "<Figure size 432x288 with 1 Axes>"
            ]
          },
          "metadata": {}
        }
      ]
    },
    {
      "cell_type": "code",
      "source": [
        "print(SNMP.shape)"
      ],
      "metadata": {
        "id": "8UFdrJvGKlLd"
      },
      "execution_count": null,
      "outputs": []
    },
    {
      "cell_type": "code",
      "source": [
        "SSDP = pd.read_csv('/content/drive/MyDrive/CSV-01-12/01-12/DrDoS_SSDP.csv')"
      ],
      "metadata": {
        "id": "IWlbt7JLJ2b9",
        "colab": {
          "base_uri": "https://localhost:8080/"
        },
        "outputId": "f4d10daa-096b-41d4-b210-8dc5da5882a7"
      },
      "execution_count": null,
      "outputs": [
        {
          "output_type": "stream",
          "name": "stderr",
          "text": [
            "/usr/local/lib/python3.7/dist-packages/IPython/core/interactiveshell.py:2718: DtypeWarning: Columns (85) have mixed types.Specify dtype option on import or set low_memory=False.\n",
            "  interactivity=interactivity, compiler=compiler, result=result)\n"
          ]
        }
      ]
    },
    {
      "cell_type": "code",
      "source": [
        "SSDP.columns = SSDP.columns.str.replace(' ', '')\n",
        "SSDP.replace([np.inf, -np.inf], np.nan, inplace=True)\n",
        "SSDP = SSDP.dropna()"
      ],
      "metadata": {
        "id": "L_meA2gyw3DT"
      },
      "execution_count": null,
      "outputs": []
    },
    {
      "cell_type": "code",
      "source": [
        "SSDP_b = SSDP.loc[SSDP['Label'] == 'BENIGN']\n",
        "SSDP_attc = SSDP.loc[SSDP['Label'] == \"DrDoS_SSDP\"]\n",
        "SSDP_attc = SSDP_attc.sample(n= 100000 - len(SSDP_b))\n",
        "SSDP = SSDP_attc.append(SSDP_b)"
      ],
      "metadata": {
        "id": "i5eIsdKpw_9d"
      },
      "execution_count": null,
      "outputs": []
    },
    {
      "cell_type": "code",
      "source": [
        "SSDP.to_csv('SSDP_sample.csv')\n",
        "!cp SSDP_sample.csv \"drive/My Drive/\""
      ],
      "metadata": {
        "id": "F3hjsXVH6onn"
      },
      "execution_count": null,
      "outputs": []
    },
    {
      "cell_type": "code",
      "source": [
        "X_SSDP = SSDP.drop(labels= ['Label'], axis= 1)\n",
        "y_SSDP = SSDP.Label"
      ],
      "metadata": {
        "id": "LS35RMIVxipB"
      },
      "execution_count": null,
      "outputs": []
    },
    {
      "cell_type": "code",
      "source": [
        "f_7 = np.unique(y_SSDP, return_counts= True)\n",
        "f_7 = pd.DataFrame(f_7)\n",
        "classes = ['BENIGN', 'DrDoS_SSDP']"
      ],
      "metadata": {
        "id": "40bhON6bxsqR"
      },
      "execution_count": null,
      "outputs": []
    },
    {
      "cell_type": "code",
      "source": [
        "cmap = plt.get_cmap(\"Paired\")\n",
        "color = cmap(np.arange(10)*1)\n",
        "plt.pie(f_7.iloc[1,:], colors= color, radius= 3, labels= classes)\n",
        "plt.legend()\n",
        "plt.show() "
      ],
      "metadata": {
        "colab": {
          "base_uri": "https://localhost:8080/",
          "height": 554
        },
        "id": "2FzfIhW-x1Pn",
        "outputId": "5685ca0a-2004-4285-bc62-ba008483554d"
      },
      "execution_count": null,
      "outputs": [
        {
          "output_type": "display_data",
          "data": {
            "image/png": "[encoded data removed]",
            "text/plain": [
              "<Figure size 432x288 with 1 Axes>"
            ]
          },
          "metadata": {}
        }
      ]
    },
    {
      "cell_type": "code",
      "source": [
        "print(SSDP.shape)"
      ],
      "metadata": {
        "id": "2yhEKzMqKoBx"
      },
      "execution_count": null,
      "outputs": []
    },
    {
      "cell_type": "code",
      "source": [
        "UDP = pd.read_csv('/content/drive/MyDrive/CSV-01-12/01-12/DrDoS_UDP.csv')"
      ],
      "metadata": {
        "id": "jKyzHZiuJ5wF",
        "colab": {
          "base_uri": "https://localhost:8080/"
        },
        "outputId": "d457d89f-645e-4f40-91bc-c5f5d4f5d9c5"
      },
      "execution_count": null,
      "outputs": [
        {
          "output_type": "stream",
          "name": "stderr",
          "text": [
            "/usr/local/lib/python3.7/dist-packages/IPython/core/interactiveshell.py:2718: DtypeWarning: Columns (85) have mixed types.Specify dtype option on import or set low_memory=False.\n",
            "  interactivity=interactivity, compiler=compiler, result=result)\n"
          ]
        }
      ]
    },
    {
      "cell_type": "code",
      "source": [
        "UDP.columns = UDP.columns.str.replace(' ', '')\n",
        "UDP.replace([np.inf, -np.inf], np.nan, inplace=True)\n",
        "UDP = UDP.dropna()"
      ],
      "metadata": {
        "id": "JpcPDcjyyFwX"
      },
      "execution_count": null,
      "outputs": []
    },
    {
      "cell_type": "code",
      "source": [
        "UDP_b = UDP.loc[UDP['Label'] == 'BENIGN']\n",
        "UDP_attc = UDP.loc[UDP['Label'] == \"DrDoS_UDP\"]\n",
        "UDP_attc = UDP_attc.sample(n= 100000 - len(UDP_b))\n",
        "UDP = UDP_attc.append(UDP_b)"
      ],
      "metadata": {
        "id": "h6Yd99bdyL5S"
      },
      "execution_count": null,
      "outputs": []
    },
    {
      "cell_type": "code",
      "source": [
        "UDP.to_csv('UDP_sample.csv')\n",
        "!cp UDP_sample.csv \"drive/My Drive/\""
      ],
      "metadata": {
        "id": "hul0x7h260CQ"
      },
      "execution_count": null,
      "outputs": []
    },
    {
      "cell_type": "code",
      "source": [
        "X_UDP = UDP.drop(labels= ['Label'], axis= 1)\n",
        "y_UDP = UDP.Label"
      ],
      "metadata": {
        "id": "Y76U_T7SylIU"
      },
      "execution_count": null,
      "outputs": []
    },
    {
      "cell_type": "code",
      "source": [
        "f_8 = np.unique(y_UDP, return_counts= True)\n",
        "f_8 = pd.DataFrame(f_8)\n",
        "classes = ['BENIGN', 'DrDoS_UDP']"
      ],
      "metadata": {
        "id": "TK800H0eydLY"
      },
      "execution_count": null,
      "outputs": []
    },
    {
      "cell_type": "code",
      "source": [
        "cmap = plt.get_cmap(\"Paired\")\n",
        "color = cmap(np.arange(10)*1)\n",
        "plt.pie(f_8.iloc[1,:], colors= color, radius= 3, labels= classes)\n",
        "plt.legend()\n",
        "plt.show() "
      ],
      "metadata": {
        "colab": {
          "base_uri": "https://localhost:8080/",
          "height": 556
        },
        "id": "e_ChFpfIyw5D",
        "outputId": "6ab25293-916e-4fb0-bf51-58ab677c9006"
      },
      "execution_count": null,
      "outputs": [
        {
          "output_type": "display_data",
          "data": {
            "image/png": "[encoded data removed]",
            "text/plain": [
              "<Figure size 432x288 with 1 Axes>"
            ]
          },
          "metadata": {}
        }
      ]
    },
    {
      "cell_type": "code",
      "source": [
        "print(UDP.shape)"
      ],
      "metadata": {
        "id": "dGqdXkK1KrUo"
      },
      "execution_count": null,
      "outputs": []
    },
    {
      "cell_type": "code",
      "source": [
        "SYN = pd.read_csv('/content/drive/MyDrive/CSV-01-12/01-12/Syn.csv')"
      ],
      "metadata": {
        "id": "UBzmFgLsJ9cB",
        "colab": {
          "base_uri": "https://localhost:8080/"
        },
        "outputId": "5b2b0084-b9a6-4d9e-ac52-870f9b3dcdda"
      },
      "execution_count": null,
      "outputs": [
        {
          "output_type": "stream",
          "name": "stderr",
          "text": [
            "/usr/local/lib/python3.7/dist-packages/IPython/core/interactiveshell.py:2718: DtypeWarning: Columns (85) have mixed types.Specify dtype option on import or set low_memory=False.\n",
            "  interactivity=interactivity, compiler=compiler, result=result)\n"
          ]
        }
      ]
    },
    {
      "cell_type": "code",
      "source": [
        "SYN.columns = SYN.columns.str.replace(' ', '')\n",
        "SYN.replace([np.inf, -np.inf], np.nan, inplace=True)\n",
        "SYN =SYN.dropna()"
      ],
      "metadata": {
        "id": "WNqQqDaiy4JO"
      },
      "execution_count": null,
      "outputs": []
    },
    {
      "cell_type": "code",
      "source": [
        "print(np.unique(SYN['Label']))"
      ],
      "metadata": {
        "colab": {
          "base_uri": "https://localhost:8080/"
        },
        "id": "vEQLmcxbzuHW",
        "outputId": "9ac42248-f085-493c-8f8b-115c5950e6fc"
      },
      "execution_count": null,
      "outputs": [
        {
          "output_type": "stream",
          "name": "stdout",
          "text": [
            "['BENIGN' 'Syn']\n"
          ]
        }
      ]
    },
    {
      "cell_type": "code",
      "source": [
        "SYN_b = SYN.loc[SYN['Label'] == 'BENIGN']\n",
        "SYN_attc = SYN.loc[SYN['Label'] == \"Syn\"]\n",
        "SYN_attc = SYN_attc.sample(n= 100000 - len(SYN_b))\n",
        "SYN = SYN_attc.append(SYN_b)"
      ],
      "metadata": {
        "id": "7U24edtXy60G"
      },
      "execution_count": null,
      "outputs": []
    },
    {
      "cell_type": "code",
      "source": [
        "SYN.to_csv('SYN_sample.csv')\n",
        "!cp SYN_sample.csv \"drive/My Drive/\""
      ],
      "metadata": {
        "id": "iUutTg3e6_eW"
      },
      "execution_count": null,
      "outputs": []
    },
    {
      "cell_type": "code",
      "source": [
        "X_SYN = SYN.drop(labels= ['Label'], axis= 1)\n",
        "y_SYN = SYN.Label"
      ],
      "metadata": {
        "id": "vnM4FTW5y9p6"
      },
      "execution_count": null,
      "outputs": []
    },
    {
      "cell_type": "code",
      "source": [
        "f_9 = np.unique(y_SYN, return_counts= True)\n",
        "f_9 = pd.DataFrame(f_9)\n",
        "classes = ['BENIGN', 'Syn']"
      ],
      "metadata": {
        "id": "8Og5Sw3IzHvx"
      },
      "execution_count": null,
      "outputs": []
    },
    {
      "cell_type": "code",
      "source": [
        "cmap = plt.get_cmap(\"Paired\")\n",
        "color = cmap(np.arange(10)*1)\n",
        "plt.pie(f_9.iloc[1,:], colors= color, radius= 3, labels= classes)\n",
        "plt.legend()\n",
        "plt.show() "
      ],
      "metadata": {
        "colab": {
          "base_uri": "https://localhost:8080/",
          "height": 554
        },
        "id": "6xUM0niUzKmu",
        "outputId": "9dbc04e7-f1e8-4360-fa24-b8b4ee533e71"
      },
      "execution_count": null,
      "outputs": [
        {
          "output_type": "display_data",
          "data": {
            "image/png": "[encoded data removed]",
            "text/plain": [
              "<Figure size 432x288 with 1 Axes>"
            ]
          },
          "metadata": {}
        }
      ]
    },
    {
      "cell_type": "code",
      "source": [
        "UDPLag = pd.read_csv('/content/drive/MyDrive/CSV-01-12/01-12/UDPLag.csv')"
      ],
      "metadata": {
        "id": "8j8paCtbKF9K",
        "colab": {
          "base_uri": "https://localhost:8080/"
        },
        "outputId": "63963ca0-6630-48ac-e505-d879cdf7c4ae"
      },
      "execution_count": null,
      "outputs": [
        {
          "output_type": "stream",
          "name": "stderr",
          "text": [
            "/usr/local/lib/python3.7/dist-packages/IPython/core/interactiveshell.py:2718: DtypeWarning: Columns (85) have mixed types.Specify dtype option on import or set low_memory=False.\n",
            "  interactivity=interactivity, compiler=compiler, result=result)\n"
          ]
        }
      ]
    },
    {
      "cell_type": "code",
      "source": [
        "UDPLag.columns = UDPLag.columns.str.replace(' ', '')\n",
        "UDPLag.replace([np.inf, -np.inf], np.nan, inplace=True)\n",
        "UDPLag = UDPLag.dropna()"
      ],
      "metadata": {
        "id": "FE_gR-iz0M2-"
      },
      "execution_count": null,
      "outputs": []
    },
    {
      "cell_type": "code",
      "source": [
        "print(np.unique(UDPLag.Label, return_counts= True))"
      ],
      "metadata": {
        "colab": {
          "base_uri": "https://localhost:8080/"
        },
        "id": "FKkWdEeE22b_",
        "outputId": "5d7cf54f-cf1d-445e-da0e-cc6023f77614"
      },
      "execution_count": null,
      "outputs": [
        {
          "output_type": "stream",
          "name": "stdout",
          "text": [
            "(array(['BENIGN', 'UDP-lag', 'WebDDoS'], dtype=object), array([  3705, 366461,    439]))\n"
          ]
        }
      ]
    },
    {
      "cell_type": "code",
      "source": [
        "UDPLag_b = UDPLag.loc[UDPLag['Label'] == 'BENIGN']\n",
        "UDPLag_attc = UDPLag.loc[UDPLag['Label'] == \"UDP-lag\"]\n",
        "UDPLag_attc = UDPLag_attc.sample(n= 100000 - len(UDPLag_b))\n",
        "UDPLag = UDPLag_attc.append(UDPLag_b)\n",
        "UDPLag = UDPLag.append(UDPLag_web)"
      ],
      "metadata": {
        "id": "2mFdHPCR0PA0"
      },
      "execution_count": null,
      "outputs": []
    },
    {
      "cell_type": "code",
      "source": [
        "UDPLag.to_csv('UDPLag_sample.csv')\n",
        "!cp UDPLag_sample.csv \"drive/My Drive/\""
      ],
      "metadata": {
        "id": "7q389Dnl7NK_"
      },
      "execution_count": null,
      "outputs": []
    },
    {
      "cell_type": "code",
      "source": [
        "X_UDPLag = UDPLag.drop(labels= ['Label'], axis= 1)\n",
        "y_UDPLag = UDPLag.Label"
      ],
      "metadata": {
        "id": "K7dmLwxW0Qgl"
      },
      "execution_count": null,
      "outputs": []
    },
    {
      "cell_type": "code",
      "source": [
        "f_11 = np.unique(y_UDPLag, return_counts= True)\n",
        "f_11 = pd.DataFrame(f_11)\n",
        "classes = ['BENIGN', 'UDP-lag', 'WebDDoS']"
      ],
      "metadata": {
        "id": "JVrzwBeU0S9a"
      },
      "execution_count": null,
      "outputs": []
    },
    {
      "cell_type": "code",
      "source": [
        "cmap = plt.get_cmap(\"Paired\")\n",
        "color = cmap(np.arange(2)*8)\n",
        "plt.pie(f_11.iloc[1,:], colors= color, radius= 3, labels= classes)\n",
        "plt.legend()\n",
        "plt.show() "
      ],
      "metadata": {
        "colab": {
          "base_uri": "https://localhost:8080/",
          "height": 556
        },
        "id": "-ovXvAs00Uwg",
        "outputId": "edcb6df7-4385-4157-9c72-7be9e673c3aa"
      },
      "execution_count": null,
      "outputs": [
        {
          "output_type": "display_data",
          "data": {
            "image/png": "[encoded data removed]",
            "text/plain": [
              "<Figure size 432x288 with 1 Axes>"
            ]
          },
          "metadata": {}
        }
      ]
    },
    {
      "cell_type": "code",
      "source": [
        "print(UDPLag.shape)"
      ],
      "metadata": {
        "id": "H6OoOfp9Kzmy"
      },
      "execution_count": null,
      "outputs": []
    },
    {
      "cell_type": "code",
      "source": [
        "new_X.to_csv('new_X.csv')\n",
        "!cp new_X.csv \"drive/My Drive/\""
      ],
      "metadata": {
        "id": "N3E0I6lQl91T"
      },
      "execution_count": null,
      "outputs": []
    }
  ]
}